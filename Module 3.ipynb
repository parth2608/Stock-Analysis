{
 "cells": [
  {
   "cell_type": "code",
   "execution_count": 1,
   "metadata": {},
   "outputs": [],
   "source": [
    "import pandas as pd\n",
    "from sklearn.linear_model import LinearRegression\n",
    "from sklearn.model_selection import train_test_split\n",
    "from sklearn.preprocessing import PolynomialFeatures\n",
    "from sklearn.metrics import r2_score\n",
    "from sklearn import linear_model\n",
    "import statsmodels.api as sm\n",
    "from statsmodels import regression\n",
    "import numpy as np\n",
    "import seaborn as sns\n",
    "import matplotlib.pyplot as plt\n",
    "%matplotlib inline"
   ]
  },
  {
   "cell_type": "markdown",
   "metadata": {},
   "source": [
    "# 3.1"
   ]
  },
  {
   "cell_type": "code",
   "execution_count": 2,
   "metadata": {},
   "outputs": [
    {
     "data": {
      "text/html": [
       "<div>\n",
       "<style scoped>\n",
       "    .dataframe tbody tr th:only-of-type {\n",
       "        vertical-align: middle;\n",
       "    }\n",
       "\n",
       "    .dataframe tbody tr th {\n",
       "        vertical-align: top;\n",
       "    }\n",
       "\n",
       "    .dataframe thead th {\n",
       "        text-align: right;\n",
       "    }\n",
       "</style>\n",
       "<table border=\"1\" class=\"dataframe\">\n",
       "  <thead>\n",
       "    <tr style=\"text-align: right;\">\n",
       "      <th></th>\n",
       "      <th>Date</th>\n",
       "      <th>Price</th>\n",
       "      <th>Open</th>\n",
       "      <th>High</th>\n",
       "      <th>Low</th>\n",
       "      <th>Vol.</th>\n",
       "      <th>Change %</th>\n",
       "      <th>Pred</th>\n",
       "      <th>new</th>\n",
       "    </tr>\n",
       "  </thead>\n",
       "  <tbody>\n",
       "    <tr>\n",
       "      <th>0</th>\n",
       "      <td>May 04, 2017</td>\n",
       "      <td>28060</td>\n",
       "      <td>28400</td>\n",
       "      <td>28482</td>\n",
       "      <td>28025</td>\n",
       "      <td>0.08K</td>\n",
       "      <td>-1.79%</td>\n",
       "      <td>738.0</td>\n",
       "      <td>117.570740</td>\n",
       "    </tr>\n",
       "    <tr>\n",
       "      <th>1</th>\n",
       "      <td>May 05, 2017</td>\n",
       "      <td>28184</td>\n",
       "      <td>28136</td>\n",
       "      <td>28382</td>\n",
       "      <td>28135</td>\n",
       "      <td>0.06K</td>\n",
       "      <td>0.44%</td>\n",
       "      <td>-146.0</td>\n",
       "      <td>295.430176</td>\n",
       "    </tr>\n",
       "    <tr>\n",
       "      <th>2</th>\n",
       "      <td>May 08, 2017</td>\n",
       "      <td>28119</td>\n",
       "      <td>28145</td>\n",
       "      <td>28255</td>\n",
       "      <td>28097</td>\n",
       "      <td>7.85K</td>\n",
       "      <td>-0.23%</td>\n",
       "      <td>30.0</td>\n",
       "      <td>132.123714</td>\n",
       "    </tr>\n",
       "    <tr>\n",
       "      <th>3</th>\n",
       "      <td>May 09, 2017</td>\n",
       "      <td>27981</td>\n",
       "      <td>28125</td>\n",
       "      <td>28192</td>\n",
       "      <td>27947</td>\n",
       "      <td>10.10K</td>\n",
       "      <td>-0.49%</td>\n",
       "      <td>357.0</td>\n",
       "      <td>101.298064</td>\n",
       "    </tr>\n",
       "    <tr>\n",
       "      <th>4</th>\n",
       "      <td>May 10, 2017</td>\n",
       "      <td>28007</td>\n",
       "      <td>28060</td>\n",
       "      <td>28146</td>\n",
       "      <td>27981</td>\n",
       "      <td>9.28K</td>\n",
       "      <td>0.09%</td>\n",
       "      <td>124.0</td>\n",
       "      <td>112.153318</td>\n",
       "    </tr>\n",
       "  </tbody>\n",
       "</table>\n",
       "</div>"
      ],
      "text/plain": [
       "           Date  Price   Open   High    Low    Vol. Change %   Pred  \\\n",
       "0  May 04, 2017  28060  28400  28482  28025   0.08K   -1.79%  738.0   \n",
       "1  May 05, 2017  28184  28136  28382  28135   0.06K    0.44% -146.0   \n",
       "2  May 08, 2017  28119  28145  28255  28097   7.85K   -0.23%   30.0   \n",
       "3  May 09, 2017  27981  28125  28192  27947  10.10K   -0.49%  357.0   \n",
       "4  May 10, 2017  28007  28060  28146  27981   9.28K    0.09%  124.0   \n",
       "\n",
       "          new  \n",
       "0  117.570740  \n",
       "1  295.430176  \n",
       "2  132.123714  \n",
       "3  101.298064  \n",
       "4  112.153318  "
      ]
     },
     "execution_count": 2,
     "metadata": {},
     "output_type": "execute_result"
    }
   ],
   "source": [
    "gold = pd.read_csv('Gold.csv')\n",
    "gold.head()"
   ]
  },
  {
   "cell_type": "code",
   "execution_count": 3,
   "metadata": {},
   "outputs": [],
   "source": [
    "X = gold[['Open', 'High', 'Low', 'Price']]\n",
    "Y = gold['new']"
   ]
  },
  {
   "cell_type": "code",
   "execution_count": 4,
   "metadata": {},
   "outputs": [],
   "source": [
    "X_train, X_test, Y_train, Y_test = train_test_split(X, Y, test_size=0.2)"
   ]
  },
  {
   "cell_type": "code",
   "execution_count": 5,
   "metadata": {},
   "outputs": [],
   "source": [
    "regressor = LinearRegression()\n",
    "regressor.fit(X_train, Y_train);"
   ]
  },
  {
   "cell_type": "code",
   "execution_count": 6,
   "metadata": {},
   "outputs": [
    {
     "data": {
      "text/html": [
       "<div>\n",
       "<style scoped>\n",
       "    .dataframe tbody tr th:only-of-type {\n",
       "        vertical-align: middle;\n",
       "    }\n",
       "\n",
       "    .dataframe tbody tr th {\n",
       "        vertical-align: top;\n",
       "    }\n",
       "\n",
       "    .dataframe thead th {\n",
       "        text-align: right;\n",
       "    }\n",
       "</style>\n",
       "<table border=\"1\" class=\"dataframe\">\n",
       "  <thead>\n",
       "    <tr style=\"text-align: right;\">\n",
       "      <th></th>\n",
       "      <th>Coefficient</th>\n",
       "    </tr>\n",
       "  </thead>\n",
       "  <tbody>\n",
       "    <tr>\n",
       "      <th>Open</th>\n",
       "      <td>-1.000288</td>\n",
       "    </tr>\n",
       "    <tr>\n",
       "      <th>High</th>\n",
       "      <td>1.004977</td>\n",
       "    </tr>\n",
       "    <tr>\n",
       "      <th>Low</th>\n",
       "      <td>-1.017987</td>\n",
       "    </tr>\n",
       "    <tr>\n",
       "      <th>Price</th>\n",
       "      <td>1.013245</td>\n",
       "    </tr>\n",
       "  </tbody>\n",
       "</table>\n",
       "</div>"
      ],
      "text/plain": [
       "       Coefficient\n",
       "Open     -1.000288\n",
       "High      1.004977\n",
       "Low      -1.017987\n",
       "Price     1.013245"
      ]
     },
     "execution_count": 6,
     "metadata": {},
     "output_type": "execute_result"
    }
   ],
   "source": [
    "coeff = pd.DataFrame(regressor.coef_, X.columns, columns=['Coefficient'])\n",
    "coeff"
   ]
  },
  {
   "cell_type": "code",
   "execution_count": 7,
   "metadata": {},
   "outputs": [
    {
     "data": {
      "text/plain": [
       "99.99886428637188"
      ]
     },
     "execution_count": 7,
     "metadata": {},
     "output_type": "execute_result"
    }
   ],
   "source": [
    "Y_pred = regressor.predict(X_test)\n",
    "regressor.score(X,Y)*100"
   ]
  },
  {
   "cell_type": "code",
   "execution_count": 8,
   "metadata": {},
   "outputs": [
    {
     "data": {
      "image/png": "[encoded data removed]",
      "text/plain": [
       "<Figure size 432x288 with 1 Axes>"
      ]
     },
     "metadata": {
      "needs_background": "light"
     },
     "output_type": "display_data"
    }
   ],
   "source": [
    "sns.distplot(Y_test, label='True')\n",
    "sns.distplot(Y_pred, label='Predicted')\n",
    "plt.legend();"
   ]
  },
  {
   "cell_type": "markdown",
   "metadata": {},
   "source": [
    "### 'new' column is the linear function."
   ]
  },
  {
   "cell_type": "code",
   "execution_count": 9,
   "metadata": {},
   "outputs": [],
   "source": [
    "X = gold[['Open', 'High', 'Low', 'Price']][0:411]\n",
    "Y = gold['Pred'][0:411]"
   ]
  },
  {
   "cell_type": "code",
   "execution_count": 10,
   "metadata": {},
   "outputs": [],
   "source": [
    "X_train, X_test, Y_train, Y_test = train_test_split(X, Y, test_size=0.2)"
   ]
  },
  {
   "cell_type": "code",
   "execution_count": 11,
   "metadata": {},
   "outputs": [
    {
     "name": "stdout",
     "output_type": "stream",
     "text": [
      "R2 score of training set is 1.0\n",
      "R2 score of test set is 1.0\n"
     ]
    },
    {
     "data": {
      "image/png": "[encoded data removed]",
      "text/plain": [
       "<Figure size 432x288 with 1 Axes>"
      ]
     },
     "metadata": {
      "needs_background": "light"
     },
     "output_type": "display_data"
    }
   ],
   "source": [
    "poly_features = PolynomialFeatures(degree=2)\n",
    "X_train_poly = poly_features.fit_transform(X_train)\n",
    "poly_model = LinearRegression()\n",
    "poly_model.fit(X_train_poly, Y_train)\n",
    "y_train_predicted = poly_model.predict(X_train_poly)\n",
    "y_test_predict = poly_model.predict(poly_features.fit_transform(X_test))\n",
    "r2_train = r2_score(Y_train, y_train_predicted)\n",
    "r2_test = r2_score(Y_test, y_test_predict)\n",
    "sns.distplot(Y_test, label='True')\n",
    "sns.distplot(y_test_predict, label='Predicted')\n",
    "plt.legend();\n",
    "print(\"R2 score of training set is {}\".format(r2_train))\n",
    "print(\"R2 score of test set is {}\".format(r2_test))"
   ]
  },
  {
   "cell_type": "code",
   "execution_count": 12,
   "metadata": {},
   "outputs": [
    {
     "name": "stderr",
     "output_type": "stream",
     "text": [
      "C:\\Users\\Dell\\AppData\\Roaming\\Python\\Python37\\site-packages\\ipykernel_launcher.py:1: SettingWithCopyWarning: \n",
      "A value is trying to be set on a copy of a slice from a DataFrame\n",
      "\n",
      "See the caveats in the documentation: https://pandas.pydata.org/pandas-docs/stable/user_guide/indexing.html#returning-a-view-versus-a-copy\n",
      "  \"\"\"Entry point for launching an IPython kernel.\n"
     ]
    }
   ],
   "source": [
    "gold['Pred'][411:] = poly_model.predict(poly_features.fit_transform(gold[['Open', 'High', 'Low', 'Price']][411:]))"
   ]
  },
  {
   "cell_type": "code",
   "execution_count": 13,
   "metadata": {},
   "outputs": [
    {
     "name": "stdout",
     "output_type": "stream",
     "text": [
      "R2 score of training set is 1.0\n",
      "R2 score of test set is 1.0\n"
     ]
    },
    {
     "data": {
      "image/png": "[encoded data removed]",
      "text/plain": [
       "<Figure size 432x288 with 1 Axes>"
      ]
     },
     "metadata": {
      "needs_background": "light"
     },
     "output_type": "display_data"
    }
   ],
   "source": [
    "X = gold[['Open', 'High', 'Low', 'Price']]\n",
    "Y = gold['Pred']\n",
    "X_train, X_test, Y_train, Y_test = train_test_split(X, Y, test_size=0.2)\n",
    "poly_features = PolynomialFeatures(degree=2)\n",
    "X_train_poly = poly_features.fit_transform(X_train)\n",
    "poly_model = LinearRegression()\n",
    "poly_model.fit(X_train_poly, Y_train)\n",
    "y_train_predicted = poly_model.predict(X_train_poly)\n",
    "y_test_predict = poly_model.predict(poly_features.fit_transform(X_test))\n",
    "r2_train = r2_score(Y_train, y_train_predicted)\n",
    "r2_test = r2_score(Y_test, y_test_predict)\n",
    "sns.distplot(Y_test, label='True')\n",
    "sns.distplot(y_test_predict, label='Predicted')\n",
    "plt.legend();\n",
    "print(\"R2 score of training set is {}\".format(r2_train))\n",
    "print(\"R2 score of test set is {}\".format(r2_test))"
   ]
  },
  {
   "cell_type": "markdown",
   "metadata": {},
   "source": [
    "### 'Pred' column is the polynomial function."
   ]
  },
  {
   "cell_type": "markdown",
   "metadata": {},
   "source": [
    "# 3.2"
   ]
  },
  {
   "cell_type": "code",
   "execution_count": 14,
   "metadata": {},
   "outputs": [],
   "source": [
    "tcs = pd.read_csv('TCS.csv')\n",
    "tcs['Date'] = pd.to_datetime(tcs['Date'])\n",
    "tcs = tcs.sort_values(by=['Date'], ascending=False)\n",
    "tcs.set_index('Date', inplace=True)\n",
    "nifty = pd.read_csv('Nifty50.csv')\n",
    "nifty['Date'] = pd.to_datetime(nifty['Date'])\n",
    "nifty = nifty.sort_values(by=['Date'], ascending=False)\n",
    "nifty.set_index('Date', inplace=True)"
   ]
  },
  {
   "cell_type": "code",
   "execution_count": 15,
   "metadata": {},
   "outputs": [],
   "source": [
    "return_tcs = tcs['Close Price'].pct_change()[:91]\n",
    "return_tcs = return_tcs.fillna(0)\n",
    "return_nifty = nifty['Close'].pct_change()[:91]\n",
    "return_nifty = return_nifty.fillna(0)"
   ]
  },
  {
   "cell_type": "code",
   "execution_count": 16,
   "metadata": {},
   "outputs": [
    {
     "data": {
      "image/png": "[encoded data removed]",
      "text/plain": [
       "<Figure size 432x288 with 1 Axes>"
      ]
     },
     "metadata": {
      "needs_background": "light"
     },
     "output_type": "display_data"
    }
   ],
   "source": [
    "plt.figure()\n",
    "return_tcs.plot(label='TCS')\n",
    "return_nifty.plot(label='Nifty')\n",
    "plt.legend()\n",
    "plt.xlabel('Date')\n",
    "plt.ylabel('Daily Return of TCS & Nifty')\n",
    "plt.xticks(rotation=45)\n",
    "plt.show()"
   ]
  },
  {
   "cell_type": "code",
   "execution_count": 17,
   "metadata": {},
   "outputs": [
    {
     "name": "stdout",
     "output_type": "stream",
     "text": [
      "                            OLS Regression Results                            \n",
      "==============================================================================\n",
      "Dep. Variable:                      y   R-squared:                       0.029\n",
      "Model:                            OLS   Adj. R-squared:                  0.018\n",
      "Method:                 Least Squares   F-statistic:                     2.624\n",
      "Date:                Wed, 17 Jun 2020   Prob (F-statistic):              0.109\n",
      "Time:                        18:07:38   Log-Likelihood:                 248.42\n",
      "No. Observations:                  91   AIC:                            -492.8\n",
      "Df Residuals:                      89   BIC:                            -487.8\n",
      "Df Model:                           1                                         \n",
      "Covariance Type:            nonrobust                                         \n",
      "==============================================================================\n",
      "                 coef    std err          t      P>|t|      [0.025      0.975]\n",
      "------------------------------------------------------------------------------\n",
      "const         -0.0010      0.002     -0.607      0.546      -0.004       0.002\n",
      "x1             0.3998      0.247      1.620      0.109      -0.091       0.890\n",
      "==============================================================================\n",
      "Omnibus:                       20.925   Durbin-Watson:                   2.192\n",
      "Prob(Omnibus):                  0.000   Jarque-Bera (JB):               43.499\n",
      "Skew:                           0.829   Prob(JB):                     3.58e-10\n",
      "Kurtosis:                       5.953   Cond. No.                         148.\n",
      "==============================================================================\n",
      "\n",
      "Warnings:\n",
      "[1] Standard Errors assume that the covariance matrix of the errors is correctly specified.\n",
      "alpha:  -0.0010155697775588346\n",
      "beta:  0.39976861591644747\n"
     ]
    }
   ],
   "source": [
    "X = return_nifty.values\n",
    "Y = return_tcs.values\n",
    "def linreg(x,y):\n",
    "    x=sm.add_constant(x)\n",
    "    model = regression.linear_model.OLS(y,x).fit()\n",
    "    print(model.summary())\n",
    "    x = x[:, 1]\n",
    "    return model.params[0], model.params[1]\n",
    "alpha, beta = linreg(X,Y)\n",
    "print('alpha: ', str(alpha))\n",
    "print('beta: ', str(beta))"
   ]
  },
  {
   "cell_type": "code",
   "execution_count": 18,
   "metadata": {},
   "outputs": [
    {
     "data": {
      "image/png": "[encoded data removed]",
      "text/plain": [
       "<Figure size 432x288 with 1 Axes>"
      ]
     },
     "metadata": {
      "needs_background": "light"
     },
     "output_type": "display_data"
    }
   ],
   "source": [
    "X2 = np.linspace(X.min(), X.max(), 100)\n",
    "Y_hat = X2*beta + alpha\n",
    "plt.figure()\n",
    "plt.scatter(X, Y, alpha=0.3)\n",
    "plt.xlabel(\"Nifty Daily Return\")\n",
    "plt.ylabel(\"TCS Daily Return\")\n",
    "plt.plot(X2, Y_hat, 'r', alpha=0.9)\n",
    "plt.show()"
   ]
  },
  {
   "cell_type": "code",
   "execution_count": 19,
   "metadata": {},
   "outputs": [
    {
     "data": {
      "text/html": [
       "<div>\n",
       "<style scoped>\n",
       "    .dataframe tbody tr th:only-of-type {\n",
       "        vertical-align: middle;\n",
       "    }\n",
       "\n",
       "    .dataframe tbody tr th {\n",
       "        vertical-align: top;\n",
       "    }\n",
       "\n",
       "    .dataframe thead th {\n",
       "        text-align: right;\n",
       "    }\n",
       "</style>\n",
       "<table border=\"1\" class=\"dataframe\">\n",
       "  <thead>\n",
       "    <tr style=\"text-align: right;\">\n",
       "      <th></th>\n",
       "      <th></th>\n",
       "      <th>Open</th>\n",
       "      <th>High</th>\n",
       "      <th>Low</th>\n",
       "      <th>Close</th>\n",
       "      <th>Shares Traded</th>\n",
       "      <th>Turnover (Rs. Cr)</th>\n",
       "    </tr>\n",
       "    <tr>\n",
       "      <th>year</th>\n",
       "      <th>month</th>\n",
       "      <th></th>\n",
       "      <th></th>\n",
       "      <th></th>\n",
       "      <th></th>\n",
       "      <th></th>\n",
       "      <th></th>\n",
       "    </tr>\n",
       "  </thead>\n",
       "  <tbody>\n",
       "    <tr>\n",
       "      <th rowspan=\"8\" valign=\"top\">2017</th>\n",
       "      <th>5</th>\n",
       "      <td>9636.55</td>\n",
       "      <td>9649.60</td>\n",
       "      <td>9609.25</td>\n",
       "      <td>9621.25</td>\n",
       "      <td>427053433</td>\n",
       "      <td>19605.94</td>\n",
       "    </tr>\n",
       "    <tr>\n",
       "      <th>6</th>\n",
       "      <td>9478.50</td>\n",
       "      <td>9535.80</td>\n",
       "      <td>9448.75</td>\n",
       "      <td>9520.90</td>\n",
       "      <td>185202600</td>\n",
       "      <td>8783.59</td>\n",
       "    </tr>\n",
       "    <tr>\n",
       "      <th>7</th>\n",
       "      <td>10034.70</td>\n",
       "      <td>10085.90</td>\n",
       "      <td>10016.95</td>\n",
       "      <td>10077.10</td>\n",
       "      <td>245096535</td>\n",
       "      <td>13131.89</td>\n",
       "    </tr>\n",
       "    <tr>\n",
       "      <th>8</th>\n",
       "      <td>9905.70</td>\n",
       "      <td>9925.10</td>\n",
       "      <td>9856.95</td>\n",
       "      <td>9917.90</td>\n",
       "      <td>337782004</td>\n",
       "      <td>14619.43</td>\n",
       "    </tr>\n",
       "    <tr>\n",
       "      <th>9</th>\n",
       "      <td>9814.30</td>\n",
       "      <td>9854.00</td>\n",
       "      <td>9775.35</td>\n",
       "      <td>9788.60</td>\n",
       "      <td>202350211</td>\n",
       "      <td>11087.11</td>\n",
       "    </tr>\n",
       "    <tr>\n",
       "      <th>10</th>\n",
       "      <td>10364.90</td>\n",
       "      <td>10367.70</td>\n",
       "      <td>10323.95</td>\n",
       "      <td>10335.30</td>\n",
       "      <td>239809700</td>\n",
       "      <td>12830.06</td>\n",
       "    </tr>\n",
       "    <tr>\n",
       "      <th>11</th>\n",
       "      <td>10332.70</td>\n",
       "      <td>10332.70</td>\n",
       "      <td>10211.25</td>\n",
       "      <td>10226.55</td>\n",
       "      <td>353105240</td>\n",
       "      <td>19005.56</td>\n",
       "    </tr>\n",
       "    <tr>\n",
       "      <th>12</th>\n",
       "      <td>10492.35</td>\n",
       "      <td>10538.70</td>\n",
       "      <td>10488.65</td>\n",
       "      <td>10530.70</td>\n",
       "      <td>156736221</td>\n",
       "      <td>8943.10</td>\n",
       "    </tr>\n",
       "    <tr>\n",
       "      <th rowspan=\"12\" valign=\"top\">2018</th>\n",
       "      <th>1</th>\n",
       "      <td>11018.80</td>\n",
       "      <td>11058.50</td>\n",
       "      <td>10979.30</td>\n",
       "      <td>11027.70</td>\n",
       "      <td>253462573</td>\n",
       "      <td>14459.69</td>\n",
       "    </tr>\n",
       "    <tr>\n",
       "      <th>2</th>\n",
       "      <td>10488.95</td>\n",
       "      <td>10535.50</td>\n",
       "      <td>10461.55</td>\n",
       "      <td>10492.85</td>\n",
       "      <td>294794221</td>\n",
       "      <td>16299.11</td>\n",
       "    </tr>\n",
       "    <tr>\n",
       "      <th>3</th>\n",
       "      <td>10143.60</td>\n",
       "      <td>10158.35</td>\n",
       "      <td>10096.90</td>\n",
       "      <td>10113.70</td>\n",
       "      <td>354977198</td>\n",
       "      <td>18807.48</td>\n",
       "    </tr>\n",
       "    <tr>\n",
       "      <th>4</th>\n",
       "      <td>10705.75</td>\n",
       "      <td>10759.00</td>\n",
       "      <td>10704.60</td>\n",
       "      <td>10739.35</td>\n",
       "      <td>179163468</td>\n",
       "      <td>10412.57</td>\n",
       "    </tr>\n",
       "    <tr>\n",
       "      <th>5</th>\n",
       "      <td>10670.10</td>\n",
       "      <td>10763.80</td>\n",
       "      <td>10620.40</td>\n",
       "      <td>10736.15</td>\n",
       "      <td>629198569</td>\n",
       "      <td>29479.77</td>\n",
       "    </tr>\n",
       "    <tr>\n",
       "      <th>6</th>\n",
       "      <td>10612.85</td>\n",
       "      <td>10723.05</td>\n",
       "      <td>10612.35</td>\n",
       "      <td>10714.30</td>\n",
       "      <td>250327878</td>\n",
       "      <td>14440.17</td>\n",
       "    </tr>\n",
       "    <tr>\n",
       "      <th>7</th>\n",
       "      <td>11311.05</td>\n",
       "      <td>11366.00</td>\n",
       "      <td>11267.75</td>\n",
       "      <td>11356.50</td>\n",
       "      <td>264430889</td>\n",
       "      <td>15297.40</td>\n",
       "    </tr>\n",
       "    <tr>\n",
       "      <th>8</th>\n",
       "      <td>11675.85</td>\n",
       "      <td>11727.65</td>\n",
       "      <td>11640.10</td>\n",
       "      <td>11680.50</td>\n",
       "      <td>357230312</td>\n",
       "      <td>20755.73</td>\n",
       "    </tr>\n",
       "    <tr>\n",
       "      <th>9</th>\n",
       "      <td>11008.10</td>\n",
       "      <td>11034.10</td>\n",
       "      <td>10850.30</td>\n",
       "      <td>10930.45</td>\n",
       "      <td>492894147</td>\n",
       "      <td>23227.86</td>\n",
       "    </tr>\n",
       "    <tr>\n",
       "      <th>10</th>\n",
       "      <td>10209.55</td>\n",
       "      <td>10396.00</td>\n",
       "      <td>10105.10</td>\n",
       "      <td>10386.60</td>\n",
       "      <td>386618948</td>\n",
       "      <td>21513.85</td>\n",
       "    </tr>\n",
       "    <tr>\n",
       "      <th>11</th>\n",
       "      <td>10892.10</td>\n",
       "      <td>10922.45</td>\n",
       "      <td>10835.10</td>\n",
       "      <td>10876.75</td>\n",
       "      <td>467857329</td>\n",
       "      <td>19964.33</td>\n",
       "    </tr>\n",
       "    <tr>\n",
       "      <th>12</th>\n",
       "      <td>10913.20</td>\n",
       "      <td>10923.55</td>\n",
       "      <td>10853.20</td>\n",
       "      <td>10862.55</td>\n",
       "      <td>186494657</td>\n",
       "      <td>10176.13</td>\n",
       "    </tr>\n",
       "    <tr>\n",
       "      <th rowspan=\"5\" valign=\"top\">2019</th>\n",
       "      <th>1</th>\n",
       "      <td>10690.55</td>\n",
       "      <td>10838.05</td>\n",
       "      <td>10678.55</td>\n",
       "      <td>10830.95</td>\n",
       "      <td>604818027</td>\n",
       "      <td>27471.18</td>\n",
       "    </tr>\n",
       "    <tr>\n",
       "      <th>2</th>\n",
       "      <td>10865.70</td>\n",
       "      <td>10865.70</td>\n",
       "      <td>10784.85</td>\n",
       "      <td>10792.50</td>\n",
       "      <td>644159018</td>\n",
       "      <td>27123.34</td>\n",
       "    </tr>\n",
       "    <tr>\n",
       "      <th>3</th>\n",
       "      <td>11625.45</td>\n",
       "      <td>11630.35</td>\n",
       "      <td>11570.15</td>\n",
       "      <td>11623.90</td>\n",
       "      <td>416276981</td>\n",
       "      <td>20515.25</td>\n",
       "    </tr>\n",
       "    <tr>\n",
       "      <th>4</th>\n",
       "      <td>11748.75</td>\n",
       "      <td>11756.25</td>\n",
       "      <td>11655.90</td>\n",
       "      <td>11748.15</td>\n",
       "      <td>532630874</td>\n",
       "      <td>23324.98</td>\n",
       "    </tr>\n",
       "    <tr>\n",
       "      <th>5</th>\n",
       "      <td>11258.70</td>\n",
       "      <td>11300.20</td>\n",
       "      <td>11125.60</td>\n",
       "      <td>11148.20</td>\n",
       "      <td>357586433</td>\n",
       "      <td>16722.91</td>\n",
       "    </tr>\n",
       "  </tbody>\n",
       "</table>\n",
       "</div>"
      ],
      "text/plain": [
       "                Open      High       Low     Close  Shares Traded  \\\n",
       "year month                                                          \n",
       "2017 5       9636.55   9649.60   9609.25   9621.25      427053433   \n",
       "     6       9478.50   9535.80   9448.75   9520.90      185202600   \n",
       "     7      10034.70  10085.90  10016.95  10077.10      245096535   \n",
       "     8       9905.70   9925.10   9856.95   9917.90      337782004   \n",
       "     9       9814.30   9854.00   9775.35   9788.60      202350211   \n",
       "     10     10364.90  10367.70  10323.95  10335.30      239809700   \n",
       "     11     10332.70  10332.70  10211.25  10226.55      353105240   \n",
       "     12     10492.35  10538.70  10488.65  10530.70      156736221   \n",
       "2018 1      11018.80  11058.50  10979.30  11027.70      253462573   \n",
       "     2      10488.95  10535.50  10461.55  10492.85      294794221   \n",
       "     3      10143.60  10158.35  10096.90  10113.70      354977198   \n",
       "     4      10705.75  10759.00  10704.60  10739.35      179163468   \n",
       "     5      10670.10  10763.80  10620.40  10736.15      629198569   \n",
       "     6      10612.85  10723.05  10612.35  10714.30      250327878   \n",
       "     7      11311.05  11366.00  11267.75  11356.50      264430889   \n",
       "     8      11675.85  11727.65  11640.10  11680.50      357230312   \n",
       "     9      11008.10  11034.10  10850.30  10930.45      492894147   \n",
       "     10     10209.55  10396.00  10105.10  10386.60      386618948   \n",
       "     11     10892.10  10922.45  10835.10  10876.75      467857329   \n",
       "     12     10913.20  10923.55  10853.20  10862.55      186494657   \n",
       "2019 1      10690.55  10838.05  10678.55  10830.95      604818027   \n",
       "     2      10865.70  10865.70  10784.85  10792.50      644159018   \n",
       "     3      11625.45  11630.35  11570.15  11623.90      416276981   \n",
       "     4      11748.75  11756.25  11655.90  11748.15      532630874   \n",
       "     5      11258.70  11300.20  11125.60  11148.20      357586433   \n",
       "\n",
       "            Turnover (Rs. Cr)  \n",
       "year month                     \n",
       "2017 5               19605.94  \n",
       "     6                8783.59  \n",
       "     7               13131.89  \n",
       "     8               14619.43  \n",
       "     9               11087.11  \n",
       "     10              12830.06  \n",
       "     11              19005.56  \n",
       "     12               8943.10  \n",
       "2018 1               14459.69  \n",
       "     2               16299.11  \n",
       "     3               18807.48  \n",
       "     4               10412.57  \n",
       "     5               29479.77  \n",
       "     6               14440.17  \n",
       "     7               15297.40  \n",
       "     8               20755.73  \n",
       "     9               23227.86  \n",
       "     10              21513.85  \n",
       "     11              19964.33  \n",
       "     12              10176.13  \n",
       "2019 1               27471.18  \n",
       "     2               27123.34  \n",
       "     3               20515.25  \n",
       "     4               23324.98  \n",
       "     5               16722.91  "
      ]
     },
     "execution_count": 19,
     "metadata": {},
     "output_type": "execute_result"
    }
   ],
   "source": [
    "tcs['month'] = tcs.index.month\n",
    "tcs['year'] = tcs.index.year\n",
    "t_group = tcs.groupby(['year', 'month'])\n",
    "nifty['month'] = nifty.index.month\n",
    "nifty['year'] = nifty.index.year\n",
    "n_group = nifty.groupby(['year', 'month'])\n",
    "n_group.first()"
   ]
  },
  {
   "cell_type": "code",
   "execution_count": 20,
   "metadata": {},
   "outputs": [
    {
     "data": {
      "text/html": [
       "<div>\n",
       "<style scoped>\n",
       "    .dataframe tbody tr th:only-of-type {\n",
       "        vertical-align: middle;\n",
       "    }\n",
       "\n",
       "    .dataframe tbody tr th {\n",
       "        vertical-align: top;\n",
       "    }\n",
       "\n",
       "    .dataframe thead th {\n",
       "        text-align: right;\n",
       "    }\n",
       "</style>\n",
       "<table border=\"1\" class=\"dataframe\">\n",
       "  <thead>\n",
       "    <tr style=\"text-align: right;\">\n",
       "      <th></th>\n",
       "      <th>TCS Close Price</th>\n",
       "      <th>Nifty Close Price</th>\n",
       "    </tr>\n",
       "  </thead>\n",
       "  <tbody>\n",
       "    <tr>\n",
       "      <th>0</th>\n",
       "      <td>0.000000</td>\n",
       "      <td>0.000000</td>\n",
       "    </tr>\n",
       "    <tr>\n",
       "      <th>1</th>\n",
       "      <td>-0.072351</td>\n",
       "      <td>-0.010430</td>\n",
       "    </tr>\n",
       "    <tr>\n",
       "      <th>2</th>\n",
       "      <td>0.054797</td>\n",
       "      <td>0.058419</td>\n",
       "    </tr>\n",
       "    <tr>\n",
       "      <th>3</th>\n",
       "      <td>0.001826</td>\n",
       "      <td>-0.015798</td>\n",
       "    </tr>\n",
       "    <tr>\n",
       "      <th>4</th>\n",
       "      <td>-0.024195</td>\n",
       "      <td>-0.013037</td>\n",
       "    </tr>\n",
       "    <tr>\n",
       "      <th>5</th>\n",
       "      <td>0.077198</td>\n",
       "      <td>0.055851</td>\n",
       "    </tr>\n",
       "    <tr>\n",
       "      <th>6</th>\n",
       "      <td>0.004954</td>\n",
       "      <td>-0.010522</td>\n",
       "    </tr>\n",
       "    <tr>\n",
       "      <th>7</th>\n",
       "      <td>0.024346</td>\n",
       "      <td>0.029741</td>\n",
       "    </tr>\n",
       "    <tr>\n",
       "      <th>8</th>\n",
       "      <td>0.152210</td>\n",
       "      <td>0.047195</td>\n",
       "    </tr>\n",
       "    <tr>\n",
       "      <th>9</th>\n",
       "      <td>-0.024837</td>\n",
       "      <td>-0.048501</td>\n",
       "    </tr>\n",
       "    <tr>\n",
       "      <th>10</th>\n",
       "      <td>-0.061251</td>\n",
       "      <td>-0.036134</td>\n",
       "    </tr>\n",
       "    <tr>\n",
       "      <th>11</th>\n",
       "      <td>0.239703</td>\n",
       "      <td>0.061862</td>\n",
       "    </tr>\n",
       "    <tr>\n",
       "      <th>12</th>\n",
       "      <td>-0.507078</td>\n",
       "      <td>-0.000298</td>\n",
       "    </tr>\n",
       "    <tr>\n",
       "      <th>13</th>\n",
       "      <td>0.061285</td>\n",
       "      <td>-0.002035</td>\n",
       "    </tr>\n",
       "    <tr>\n",
       "      <th>14</th>\n",
       "      <td>0.050034</td>\n",
       "      <td>0.059939</td>\n",
       "    </tr>\n",
       "    <tr>\n",
       "      <th>15</th>\n",
       "      <td>0.071230</td>\n",
       "      <td>0.028530</td>\n",
       "    </tr>\n",
       "    <tr>\n",
       "      <th>16</th>\n",
       "      <td>0.050664</td>\n",
       "      <td>-0.064214</td>\n",
       "    </tr>\n",
       "    <tr>\n",
       "      <th>17</th>\n",
       "      <td>-0.112447</td>\n",
       "      <td>-0.049755</td>\n",
       "    </tr>\n",
       "    <tr>\n",
       "      <th>18</th>\n",
       "      <td>0.015530</td>\n",
       "      <td>0.047191</td>\n",
       "    </tr>\n",
       "    <tr>\n",
       "      <th>19</th>\n",
       "      <td>-0.038207</td>\n",
       "      <td>-0.001306</td>\n",
       "    </tr>\n",
       "    <tr>\n",
       "      <th>20</th>\n",
       "      <td>0.063944</td>\n",
       "      <td>-0.002909</td>\n",
       "    </tr>\n",
       "    <tr>\n",
       "      <th>21</th>\n",
       "      <td>-0.015218</td>\n",
       "      <td>-0.003550</td>\n",
       "    </tr>\n",
       "    <tr>\n",
       "      <th>22</th>\n",
       "      <td>0.009176</td>\n",
       "      <td>0.077035</td>\n",
       "    </tr>\n",
       "    <tr>\n",
       "      <th>23</th>\n",
       "      <td>0.129243</td>\n",
       "      <td>0.010689</td>\n",
       "    </tr>\n",
       "    <tr>\n",
       "      <th>24</th>\n",
       "      <td>-0.058221</td>\n",
       "      <td>-0.051068</td>\n",
       "    </tr>\n",
       "  </tbody>\n",
       "</table>\n",
       "</div>"
      ],
      "text/plain": [
       "    TCS Close Price  Nifty Close Price\n",
       "0          0.000000           0.000000\n",
       "1         -0.072351          -0.010430\n",
       "2          0.054797           0.058419\n",
       "3          0.001826          -0.015798\n",
       "4         -0.024195          -0.013037\n",
       "5          0.077198           0.055851\n",
       "6          0.004954          -0.010522\n",
       "7          0.024346           0.029741\n",
       "8          0.152210           0.047195\n",
       "9         -0.024837          -0.048501\n",
       "10        -0.061251          -0.036134\n",
       "11         0.239703           0.061862\n",
       "12        -0.507078          -0.000298\n",
       "13         0.061285          -0.002035\n",
       "14         0.050034           0.059939\n",
       "15         0.071230           0.028530\n",
       "16         0.050664          -0.064214\n",
       "17        -0.112447          -0.049755\n",
       "18         0.015530           0.047191\n",
       "19        -0.038207          -0.001306\n",
       "20         0.063944          -0.002909\n",
       "21        -0.015218          -0.003550\n",
       "22         0.009176           0.077035\n",
       "23         0.129243           0.010689\n",
       "24        -0.058221          -0.051068"
      ]
     },
     "execution_count": 20,
     "metadata": {},
     "output_type": "execute_result"
    }
   ],
   "source": [
    "tcs_monthly = pd.DataFrame(list(t_group['Close Price'].first()), columns=['TCS Close Price'])\n",
    "nifty_monthly = pd.DataFrame(list(n_group['Close'].first()), columns=['Nifty Close Price'])\n",
    "monthly_prices = pd.concat([tcs_monthly['TCS Close Price'], nifty_monthly['Nifty Close Price']], axis=1)\n",
    "monthly_prices = monthly_prices.pct_change().fillna(0)\n",
    "monthly_prices"
   ]
  },
  {
   "cell_type": "code",
   "execution_count": 21,
   "metadata": {},
   "outputs": [
    {
     "name": "stdout",
     "output_type": "stream",
     "text": [
      "                            OLS Regression Results                            \n",
      "==============================================================================\n",
      "Dep. Variable:                      y   R-squared:                       0.141\n",
      "Model:                            OLS   Adj. R-squared:                  0.103\n",
      "Method:                 Least Squares   F-statistic:                     3.763\n",
      "Date:                Wed, 17 Jun 2020   Prob (F-statistic):             0.0648\n",
      "Time:                        18:07:38   Log-Likelihood:                 17.804\n",
      "No. Observations:                  25   AIC:                            -31.61\n",
      "Df Residuals:                      23   BIC:                            -29.17\n",
      "Df Model:                           1                                         \n",
      "Covariance Type:            nonrobust                                         \n",
      "==============================================================================\n",
      "                 coef    std err          t      P>|t|      [0.025      0.975]\n",
      "------------------------------------------------------------------------------\n",
      "const         -0.0045      0.025     -0.178      0.860      -0.056       0.047\n",
      "x1             1.2225      0.630      1.940      0.065      -0.081       2.526\n",
      "==============================================================================\n",
      "Omnibus:                       39.109   Durbin-Watson:                   2.733\n",
      "Prob(Omnibus):                  0.000   Jarque-Bera (JB):              139.407\n",
      "Skew:                          -2.794   Prob(JB):                     5.35e-31\n",
      "Kurtosis:                      13.130   Cond. No.                         25.5\n",
      "==============================================================================\n",
      "\n",
      "Warnings:\n",
      "[1] Standard Errors assume that the covariance matrix of the errors is correctly specified.\n",
      "alpha:  -0.0044675018709341395\n",
      "beta:  1.2224755596210473\n"
     ]
    }
   ],
   "source": [
    "X = monthly_prices['Nifty Close Price'].values\n",
    "Y = monthly_prices['TCS Close Price'].values\n",
    "alpha, beta = linreg(X,Y)\n",
    "print('alpha: ', str(alpha))\n",
    "print('beta: ', str(beta))"
   ]
  },
  {
   "cell_type": "code",
   "execution_count": 22,
   "metadata": {},
   "outputs": [
    {
     "data": {
      "image/png": "[encoded data removed]",
      "text/plain": [
       "<Figure size 432x288 with 1 Axes>"
      ]
     },
     "metadata": {
      "needs_background": "light"
     },
     "output_type": "display_data"
    }
   ],
   "source": [
    "X2 = np.linspace(X.min(), X.max(), 100)\n",
    "Y_hat = X2*beta + alpha\n",
    "plt.figure()\n",
    "plt.scatter(X, Y, alpha=0.3)\n",
    "plt.xlabel(\"Nifty Monthly Return\")\n",
    "plt.ylabel(\"TCS Monthly Return\")\n",
    "plt.plot(X2, Y_hat, 'r', alpha=0.9)\n",
    "plt.show()"
   ]
  },
  {
   "cell_type": "markdown",
   "metadata": {},
   "source": [
    "## Inferences"
   ]
  },
  {
   "cell_type": "markdown",
   "metadata": {},
   "source": [
    "As we can see that the beta value for daily returns for TCS is less than 1, hence it indicates that the stock has lower volatility. On the other hand, the beta value for monthly returns for TCS is more than 1, indicating that the stock is more volatile than broader market. Therefore, it may have high return.\n",
    "For negative beta value, the stock price of TCS will depriciate with corresponing increase in the Nifty stock ptice, and vice-versa.\n",
    "The regression plot helps us decide whether the slope (beta value) is postive or negative and the rate at which it varies with the Nifty stock."
   ]
  },
  {
   "cell_type": "code",
   "execution_count": null,
   "metadata": {},
   "outputs": [],
   "source": []
  }
 ],
 "metadata": {
  "kernelspec": {
   "display_name": "Python 3.7.7 64-bit ('myenv': conda)",
   "language": "python",
   "name": "python37764bitmyenvconda80e0893933374329969451da851b3ca8"
  },
  "language_info": {
   "codemirror_mode": {
    "name": "ipython",
    "version": 3
   },
   "file_extension": ".py",
   "mimetype": "text/x-python",
   "name": "python",
   "nbconvert_exporter": "python",
   "pygments_lexer": "ipython3",
   "version": "3.7.7"
  }
 },
 "nbformat": 4,
 "nbformat_minor": 2
}
