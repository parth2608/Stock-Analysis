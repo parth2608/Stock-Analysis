{
 "cells": [
  {
   "cell_type": "code",
   "execution_count": 77,
   "metadata": {},
   "outputs": [],
   "source": [
    "import numpy as np\n",
    "import pandas as pd"
   ]
  },
  {
   "cell_type": "markdown",
   "metadata": {},
   "source": [
    "## 1.1"
   ]
  },
  {
   "cell_type": "code",
   "execution_count": 78,
   "metadata": {},
   "outputs": [
    {
     "data": {
      "text/html": [
       "<div>\n",
       "<style scoped>\n",
       "    .dataframe tbody tr th:only-of-type {\n",
       "        vertical-align: middle;\n",
       "    }\n",
       "\n",
       "    .dataframe tbody tr th {\n",
       "        vertical-align: top;\n",
       "    }\n",
       "\n",
       "    .dataframe thead th {\n",
       "        text-align: right;\n",
       "    }\n",
       "</style>\n",
       "<table border=\"1\" class=\"dataframe\">\n",
       "  <thead>\n",
       "    <tr style=\"text-align: right;\">\n",
       "      <th></th>\n",
       "      <th>Date</th>\n",
       "      <th>Close_Price</th>\n",
       "      <th>Open_Price</th>\n",
       "      <th>High_Price</th>\n",
       "      <th>Low_Price</th>\n",
       "      <th>Total_Traded_Quantity</th>\n",
       "    </tr>\n",
       "  </thead>\n",
       "  <tbody>\n",
       "    <tr>\n",
       "      <th>0</th>\n",
       "      <td>24-Oct-19</td>\n",
       "      <td>1780.78</td>\n",
       "      <td>1,770.78</td>\n",
       "      <td>1,787.97</td>\n",
       "      <td>1,760.78</td>\n",
       "      <td>5.20M</td>\n",
       "    </tr>\n",
       "    <tr>\n",
       "      <th>1</th>\n",
       "      <td>23-Oct-19</td>\n",
       "      <td>1762.17</td>\n",
       "      <td>1,761.30</td>\n",
       "      <td>1,770.05</td>\n",
       "      <td>1,742.00</td>\n",
       "      <td>2.19M</td>\n",
       "    </tr>\n",
       "    <tr>\n",
       "      <th>2</th>\n",
       "      <td>22-Oct-19</td>\n",
       "      <td>1765.73</td>\n",
       "      <td>1,788.15</td>\n",
       "      <td>1,789.78</td>\n",
       "      <td>1,762.00</td>\n",
       "      <td>2.23M</td>\n",
       "    </tr>\n",
       "    <tr>\n",
       "      <th>3</th>\n",
       "      <td>21-Oct-19</td>\n",
       "      <td>1785.66</td>\n",
       "      <td>1,769.66</td>\n",
       "      <td>1,785.88</td>\n",
       "      <td>1,765.00</td>\n",
       "      <td>2.22M</td>\n",
       "    </tr>\n",
       "    <tr>\n",
       "      <th>4</th>\n",
       "      <td>18-Oct-19</td>\n",
       "      <td>1757.51</td>\n",
       "      <td>1,787.80</td>\n",
       "      <td>1,793.98</td>\n",
       "      <td>1,749.20</td>\n",
       "      <td>3.37M</td>\n",
       "    </tr>\n",
       "  </tbody>\n",
       "</table>\n",
       "</div>"
      ],
      "text/plain": [
       "        Date  Close_Price Open_Price High_Price Low_Price  \\\n",
       "0  24-Oct-19      1780.78   1,770.78   1,787.97  1,760.78   \n",
       "1  23-Oct-19      1762.17   1,761.30   1,770.05  1,742.00   \n",
       "2  22-Oct-19      1765.73   1,788.15   1,789.78  1,762.00   \n",
       "3  21-Oct-19      1785.66   1,769.66   1,785.88  1,765.00   \n",
       "4  18-Oct-19      1757.51   1,787.80   1,793.98  1,749.20   \n",
       "\n",
       "  Total_Traded_Quantity  \n",
       "0                 5.20M  \n",
       "1                 2.19M  \n",
       "2                 2.23M  \n",
       "3                 2.22M  \n",
       "4                 3.37M  "
      ]
     },
     "execution_count": 78,
     "metadata": {},
     "output_type": "execute_result"
    }
   ],
   "source": [
    "df = pd.read_csv('AMZN.csv')\n",
    "df.columns = df.columns.str.replace(' ', '_')\n",
    "df['Close_Price'] = df['Close_Price'].str.replace(',', '').astype(float)\n",
    "df.head()"
   ]
  },
  {
   "cell_type": "markdown",
   "metadata": {},
   "source": [
    "## 1.2"
   ]
  },
  {
   "cell_type": "code",
   "execution_count": 79,
   "metadata": {},
   "outputs": [],
   "source": [
    "cp = np.array(df['Close_Price'])\n",
    "cp = cp[0:90]"
   ]
  },
  {
   "cell_type": "code",
   "execution_count": 80,
   "metadata": {},
   "outputs": [
    {
     "name": "stdout",
     "output_type": "stream",
     "text": [
      "Maximum price for last 90 days:  2020.99\n"
     ]
    }
   ],
   "source": [
    "print('Maximum price for last 90 days: ', max(cp))"
   ]
  },
  {
   "cell_type": "code",
   "execution_count": 81,
   "metadata": {},
   "outputs": [
    {
     "name": "stdout",
     "output_type": "stream",
     "text": [
      "Minimum price for last 90 days:  1705.51\n"
     ]
    }
   ],
   "source": [
    "print('Minimum price for last 90 days: ', min(cp))"
   ]
  },
  {
   "cell_type": "code",
   "execution_count": 82,
   "metadata": {},
   "outputs": [
    {
     "name": "stdout",
     "output_type": "stream",
     "text": [
      "Mean price for last 90 days:  1837.378666666667\n"
     ]
    }
   ],
   "source": [
    "print('Mean price for last 90 days: ',np.mean(cp))"
   ]
  },
  {
   "cell_type": "markdown",
   "metadata": {},
   "source": [
    "## 1.3"
   ]
  },
  {
   "cell_type": "code",
   "execution_count": 83,
   "metadata": {},
   "outputs": [
    {
     "data": {
      "text/plain": [
       "Date                      object\n",
       "Close_Price              float64\n",
       "Open_Price                object\n",
       "High_Price                object\n",
       "Low_Price                 object\n",
       "Total_Traded_Quantity     object\n",
       "dtype: object"
      ]
     },
     "execution_count": 83,
     "metadata": {},
     "output_type": "execute_result"
    }
   ],
   "source": [
    "df.dtypes"
   ]
  },
  {
   "cell_type": "code",
   "execution_count": 84,
   "metadata": {},
   "outputs": [
    {
     "data": {
      "text/plain": [
       "Timedelta('729 days 00:00:00')"
      ]
     },
     "execution_count": 84,
     "metadata": {},
     "output_type": "execute_result"
    }
   ],
   "source": [
    "df['Date'] = pd.to_datetime(df['Date'])\n",
    "max(df['Date']) - min(df['Date'])"
   ]
  },
  {
   "cell_type": "code",
   "execution_count": 85,
   "metadata": {},
   "outputs": [
    {
     "data": {
      "text/plain": [
       "Date                     datetime64[ns]\n",
       "Close_Price                     float64\n",
       "Open_Price                       object\n",
       "High_Price                       object\n",
       "Low_Price                        object\n",
       "Total_Traded_Quantity            object\n",
       "dtype: object"
      ]
     },
     "execution_count": 85,
     "metadata": {},
     "output_type": "execute_result"
    }
   ],
   "source": [
    "df.dtypes"
   ]
  },
  {
   "cell_type": "markdown",
   "metadata": {},
   "source": [
    "## 1.4"
   ]
  },
  {
   "cell_type": "code",
   "execution_count": 86,
   "metadata": {},
   "outputs": [
    {
     "data": {
      "text/html": [
       "<div>\n",
       "<style scoped>\n",
       "    .dataframe tbody tr th:only-of-type {\n",
       "        vertical-align: middle;\n",
       "    }\n",
       "\n",
       "    .dataframe tbody tr th {\n",
       "        vertical-align: top;\n",
       "    }\n",
       "\n",
       "    .dataframe thead th {\n",
       "        text-align: right;\n",
       "    }\n",
       "</style>\n",
       "<table border=\"1\" class=\"dataframe\">\n",
       "  <thead>\n",
       "    <tr style=\"text-align: right;\">\n",
       "      <th></th>\n",
       "      <th>Date</th>\n",
       "      <th>Close_Price</th>\n",
       "      <th>Open_Price</th>\n",
       "      <th>High_Price</th>\n",
       "      <th>Low_Price</th>\n",
       "      <th>Total_Traded_Quantity</th>\n",
       "      <th>Month</th>\n",
       "      <th>Year</th>\n",
       "    </tr>\n",
       "  </thead>\n",
       "  <tbody>\n",
       "    <tr>\n",
       "      <th>0</th>\n",
       "      <td>2019-10-24</td>\n",
       "      <td>1780.78</td>\n",
       "      <td>1,770.78</td>\n",
       "      <td>1,787.97</td>\n",
       "      <td>1,760.78</td>\n",
       "      <td>5.20M</td>\n",
       "      <td>10</td>\n",
       "      <td>2019</td>\n",
       "    </tr>\n",
       "    <tr>\n",
       "      <th>1</th>\n",
       "      <td>2019-10-23</td>\n",
       "      <td>1762.17</td>\n",
       "      <td>1,761.30</td>\n",
       "      <td>1,770.05</td>\n",
       "      <td>1,742.00</td>\n",
       "      <td>2.19M</td>\n",
       "      <td>10</td>\n",
       "      <td>2019</td>\n",
       "    </tr>\n",
       "    <tr>\n",
       "      <th>2</th>\n",
       "      <td>2019-10-22</td>\n",
       "      <td>1765.73</td>\n",
       "      <td>1,788.15</td>\n",
       "      <td>1,789.78</td>\n",
       "      <td>1,762.00</td>\n",
       "      <td>2.23M</td>\n",
       "      <td>10</td>\n",
       "      <td>2019</td>\n",
       "    </tr>\n",
       "    <tr>\n",
       "      <th>3</th>\n",
       "      <td>2019-10-21</td>\n",
       "      <td>1785.66</td>\n",
       "      <td>1,769.66</td>\n",
       "      <td>1,785.88</td>\n",
       "      <td>1,765.00</td>\n",
       "      <td>2.22M</td>\n",
       "      <td>10</td>\n",
       "      <td>2019</td>\n",
       "    </tr>\n",
       "    <tr>\n",
       "      <th>4</th>\n",
       "      <td>2019-10-18</td>\n",
       "      <td>1757.51</td>\n",
       "      <td>1,787.80</td>\n",
       "      <td>1,793.98</td>\n",
       "      <td>1,749.20</td>\n",
       "      <td>3.37M</td>\n",
       "      <td>10</td>\n",
       "      <td>2019</td>\n",
       "    </tr>\n",
       "  </tbody>\n",
       "</table>\n",
       "</div>"
      ],
      "text/plain": [
       "        Date  Close_Price Open_Price High_Price Low_Price  \\\n",
       "0 2019-10-24      1780.78   1,770.78   1,787.97  1,760.78   \n",
       "1 2019-10-23      1762.17   1,761.30   1,770.05  1,742.00   \n",
       "2 2019-10-22      1765.73   1,788.15   1,789.78  1,762.00   \n",
       "3 2019-10-21      1785.66   1,769.66   1,785.88  1,765.00   \n",
       "4 2019-10-18      1757.51   1,787.80   1,793.98  1,749.20   \n",
       "\n",
       "  Total_Traded_Quantity  Month  Year  \n",
       "0                 5.20M     10  2019  \n",
       "1                 2.19M     10  2019  \n",
       "2                 2.23M     10  2019  \n",
       "3                 2.22M     10  2019  \n",
       "4                 3.37M     10  2019  "
      ]
     },
     "execution_count": 86,
     "metadata": {},
     "output_type": "execute_result"
    }
   ],
   "source": [
    "df['Month'] = pd.DatetimeIndex(df['Date']).month\n",
    "df['Year'] = pd.DatetimeIndex(df['Date']).year\n",
    "df.head()"
   ]
  },
  {
   "cell_type": "code",
   "execution_count": 87,
   "metadata": {},
   "outputs": [
    {
     "data": {
      "text/html": [
       "<div>\n",
       "<style scoped>\n",
       "    .dataframe tbody tr th:only-of-type {\n",
       "        vertical-align: middle;\n",
       "    }\n",
       "\n",
       "    .dataframe tbody tr th {\n",
       "        vertical-align: top;\n",
       "    }\n",
       "\n",
       "    .dataframe thead th {\n",
       "        text-align: right;\n",
       "    }\n",
       "</style>\n",
       "<table border=\"1\" class=\"dataframe\">\n",
       "  <thead>\n",
       "    <tr style=\"text-align: right;\">\n",
       "      <th></th>\n",
       "      <th>Date</th>\n",
       "      <th>Close_Price</th>\n",
       "      <th>Open_Price</th>\n",
       "      <th>High_Price</th>\n",
       "      <th>Low_Price</th>\n",
       "      <th>Total_Traded_Quantity</th>\n",
       "      <th>Month</th>\n",
       "      <th>Year</th>\n",
       "    </tr>\n",
       "  </thead>\n",
       "  <tbody>\n",
       "    <tr>\n",
       "      <th>0</th>\n",
       "      <td>2019-10-24</td>\n",
       "      <td>1780.78</td>\n",
       "      <td>1,770.78</td>\n",
       "      <td>1,787.97</td>\n",
       "      <td>1,760.78</td>\n",
       "      <td>5200000.0</td>\n",
       "      <td>10</td>\n",
       "      <td>2019</td>\n",
       "    </tr>\n",
       "    <tr>\n",
       "      <th>1</th>\n",
       "      <td>2019-10-23</td>\n",
       "      <td>1762.17</td>\n",
       "      <td>1,761.30</td>\n",
       "      <td>1,770.05</td>\n",
       "      <td>1,742.00</td>\n",
       "      <td>2190000.0</td>\n",
       "      <td>10</td>\n",
       "      <td>2019</td>\n",
       "    </tr>\n",
       "    <tr>\n",
       "      <th>2</th>\n",
       "      <td>2019-10-22</td>\n",
       "      <td>1765.73</td>\n",
       "      <td>1,788.15</td>\n",
       "      <td>1,789.78</td>\n",
       "      <td>1,762.00</td>\n",
       "      <td>2230000.0</td>\n",
       "      <td>10</td>\n",
       "      <td>2019</td>\n",
       "    </tr>\n",
       "    <tr>\n",
       "      <th>3</th>\n",
       "      <td>2019-10-21</td>\n",
       "      <td>1785.66</td>\n",
       "      <td>1,769.66</td>\n",
       "      <td>1,785.88</td>\n",
       "      <td>1,765.00</td>\n",
       "      <td>2220000.0</td>\n",
       "      <td>10</td>\n",
       "      <td>2019</td>\n",
       "    </tr>\n",
       "    <tr>\n",
       "      <th>4</th>\n",
       "      <td>2019-10-18</td>\n",
       "      <td>1757.51</td>\n",
       "      <td>1,787.80</td>\n",
       "      <td>1,793.98</td>\n",
       "      <td>1,749.20</td>\n",
       "      <td>3370000.0</td>\n",
       "      <td>10</td>\n",
       "      <td>2019</td>\n",
       "    </tr>\n",
       "  </tbody>\n",
       "</table>\n",
       "</div>"
      ],
      "text/plain": [
       "        Date  Close_Price Open_Price High_Price Low_Price  \\\n",
       "0 2019-10-24      1780.78   1,770.78   1,787.97  1,760.78   \n",
       "1 2019-10-23      1762.17   1,761.30   1,770.05  1,742.00   \n",
       "2 2019-10-22      1765.73   1,788.15   1,789.78  1,762.00   \n",
       "3 2019-10-21      1785.66   1,769.66   1,785.88  1,765.00   \n",
       "4 2019-10-18      1757.51   1,787.80   1,793.98  1,749.20   \n",
       "\n",
       "   Total_Traded_Quantity  Month  Year  \n",
       "0              5200000.0     10  2019  \n",
       "1              2190000.0     10  2019  \n",
       "2              2230000.0     10  2019  \n",
       "3              2220000.0     10  2019  \n",
       "4              3370000.0     10  2019  "
      ]
     },
     "execution_count": 87,
     "metadata": {},
     "output_type": "execute_result"
    }
   ],
   "source": [
    "ttq = df['Total_Traded_Quantity'].str.replace('M', '')\n",
    "ttq = np.array(ttq.astype(float)) * 1000000\n",
    "df['Total_Traded_Quantity'] = ttq\n",
    "df.head()"
   ]
  },
  {
   "cell_type": "code",
   "execution_count": 88,
   "metadata": {},
   "outputs": [
    {
     "data": {
      "text/html": [
       "<div>\n",
       "<style scoped>\n",
       "    .dataframe tbody tr th:only-of-type {\n",
       "        vertical-align: middle;\n",
       "    }\n",
       "\n",
       "    .dataframe tbody tr th {\n",
       "        vertical-align: top;\n",
       "    }\n",
       "\n",
       "    .dataframe thead th {\n",
       "        text-align: right;\n",
       "    }\n",
       "</style>\n",
       "<table border=\"1\" class=\"dataframe\">\n",
       "  <thead>\n",
       "    <tr style=\"text-align: right;\">\n",
       "      <th></th>\n",
       "      <th></th>\n",
       "      <th></th>\n",
       "      <th>Date</th>\n",
       "      <th>Close_Price</th>\n",
       "      <th>Open_Price</th>\n",
       "      <th>High_Price</th>\n",
       "      <th>Low_Price</th>\n",
       "      <th>Total_Traded_Quantity</th>\n",
       "      <th>Month</th>\n",
       "      <th>Year</th>\n",
       "      <th>VWAP</th>\n",
       "    </tr>\n",
       "    <tr>\n",
       "      <th>Year</th>\n",
       "      <th>Month</th>\n",
       "      <th></th>\n",
       "      <th></th>\n",
       "      <th></th>\n",
       "      <th></th>\n",
       "      <th></th>\n",
       "      <th></th>\n",
       "      <th></th>\n",
       "      <th></th>\n",
       "      <th></th>\n",
       "      <th></th>\n",
       "    </tr>\n",
       "  </thead>\n",
       "  <tbody>\n",
       "    <tr>\n",
       "      <th rowspan=\"5\" valign=\"top\">2019</th>\n",
       "      <th rowspan=\"5\" valign=\"top\">10</th>\n",
       "      <th>0</th>\n",
       "      <td>2019-10-24</td>\n",
       "      <td>1780.78</td>\n",
       "      <td>1,770.78</td>\n",
       "      <td>1,787.97</td>\n",
       "      <td>1,760.78</td>\n",
       "      <td>5200000.0</td>\n",
       "      <td>10</td>\n",
       "      <td>2019</td>\n",
       "      <td>1780.780000</td>\n",
       "    </tr>\n",
       "    <tr>\n",
       "      <th>1</th>\n",
       "      <td>2019-10-23</td>\n",
       "      <td>1762.17</td>\n",
       "      <td>1,761.30</td>\n",
       "      <td>1,770.05</td>\n",
       "      <td>1,742.00</td>\n",
       "      <td>2190000.0</td>\n",
       "      <td>10</td>\n",
       "      <td>2019</td>\n",
       "      <td>1775.264993</td>\n",
       "    </tr>\n",
       "    <tr>\n",
       "      <th>2</th>\n",
       "      <td>2019-10-22</td>\n",
       "      <td>1765.73</td>\n",
       "      <td>1,788.15</td>\n",
       "      <td>1,789.78</td>\n",
       "      <td>1,762.00</td>\n",
       "      <td>2230000.0</td>\n",
       "      <td>10</td>\n",
       "      <td>2019</td>\n",
       "      <td>1773.054699</td>\n",
       "    </tr>\n",
       "    <tr>\n",
       "      <th>3</th>\n",
       "      <td>2019-10-21</td>\n",
       "      <td>1785.66</td>\n",
       "      <td>1,769.66</td>\n",
       "      <td>1,785.88</td>\n",
       "      <td>1,765.00</td>\n",
       "      <td>2220000.0</td>\n",
       "      <td>10</td>\n",
       "      <td>2019</td>\n",
       "      <td>1775.418193</td>\n",
       "    </tr>\n",
       "    <tr>\n",
       "      <th>4</th>\n",
       "      <td>2019-10-18</td>\n",
       "      <td>1757.51</td>\n",
       "      <td>1,787.80</td>\n",
       "      <td>1,793.98</td>\n",
       "      <td>1,749.20</td>\n",
       "      <td>3370000.0</td>\n",
       "      <td>10</td>\n",
       "      <td>2019</td>\n",
       "      <td>1771.450368</td>\n",
       "    </tr>\n",
       "  </tbody>\n",
       "</table>\n",
       "</div>"
      ],
      "text/plain": [
       "                   Date  Close_Price Open_Price High_Price Low_Price  \\\n",
       "Year Month                                                             \n",
       "2019 10    0 2019-10-24      1780.78   1,770.78   1,787.97  1,760.78   \n",
       "           1 2019-10-23      1762.17   1,761.30   1,770.05  1,742.00   \n",
       "           2 2019-10-22      1765.73   1,788.15   1,789.78  1,762.00   \n",
       "           3 2019-10-21      1785.66   1,769.66   1,785.88  1,765.00   \n",
       "           4 2019-10-18      1757.51   1,787.80   1,793.98  1,749.20   \n",
       "\n",
       "              Total_Traded_Quantity  Month  Year         VWAP  \n",
       "Year Month                                                     \n",
       "2019 10    0              5200000.0     10  2019  1780.780000  \n",
       "           1              2190000.0     10  2019  1775.264993  \n",
       "           2              2230000.0     10  2019  1773.054699  \n",
       "           3              2220000.0     10  2019  1775.418193  \n",
       "           4              3370000.0     10  2019  1771.450368  "
      ]
     },
     "execution_count": 88,
     "metadata": {},
     "output_type": "execute_result"
    }
   ],
   "source": [
    "def vwap(df):\n",
    "    q = df.Total_Traded_Quantity.values\n",
    "    p = df.Close_Price.values\n",
    "    return df.assign(VWAP=(p * q).cumsum() / q.cumsum())\n",
    "\n",
    "df = df.groupby([(df['Year']),(df['Month'])]).apply(vwap)\n",
    "df = df.sort_values(by=['Date'], ascending=False)\n",
    "df.head()"
   ]
  },
  {
   "cell_type": "markdown",
   "metadata": {},
   "source": [
    "## 1.5"
   ]
  },
  {
   "cell_type": "code",
   "execution_count": 89,
   "metadata": {},
   "outputs": [],
   "source": [
    "def avg_Price(n):\n",
    "    return np.mean(np.array(df['Close_Price'])[0:n])\n",
    "\n",
    "def Profit_Loss(n):\n",
    "    cp = np.array(df['Close_Price'])\n",
    "    return ((cp[n-1]-cp[0])/cp[0])*100"
   ]
  },
  {
   "cell_type": "code",
   "execution_count": 90,
   "metadata": {},
   "outputs": [
    {
     "name": "stdout",
     "output_type": "stream",
     "text": [
      "Avergae Price of last 1 week:  1773.8228571428572\n",
      "Avergae Price of last 2 weeks:  1752.350714285714\n",
      "Avergae Price of last 1 month:  1761.505\n",
      "Avergae Price of last 3 months:  1838.0818681318683\n",
      "Avergae Price of last 6 months:  1811.3885164835167\n",
      "Avergae Price of last 1 year:  1772.9082191780822\n"
     ]
    }
   ],
   "source": [
    "print('Avergae Price of last 1 week: ', avg_Price(7))\n",
    "print('Avergae Price of last 2 weeks: ', avg_Price(14))\n",
    "print('Avergae Price of last 1 month: ', avg_Price(30))\n",
    "print('Avergae Price of last 3 months: ', avg_Price(91))\n",
    "print('Avergae Price of last 6 months: ', avg_Price(182))\n",
    "print('Avergae Price of last 1 year: ', avg_Price(365))"
   ]
  },
  {
   "cell_type": "code",
   "execution_count": 91,
   "metadata": {},
   "outputs": [
    {
     "name": "stdout",
     "output_type": "stream",
     "text": [
      "Profit/Loss Percentage of last 1 week:  -0.18811981266635458\n",
      "Profit/Loss Percentage of last 2 weeks:  -2.7021866822403604\n",
      "Profit/Loss Percentage of last 1 month:  3.288446635743884\n",
      "Profit/Loss Percentage of last 3 months:  6.771751704309343\n",
      "Profit/Loss Percentage of last 6 months:  -7.890924201754286\n",
      "Profit/Loss Percentage of last 1 year:  -11.49271667471558\n"
     ]
    }
   ],
   "source": [
    "print('Profit/Loss Percentage of last 1 week: ', Profit_Loss(7))\n",
    "print('Profit/Loss Percentage of last 2 weeks: ', Profit_Loss(14))\n",
    "print('Profit/Loss Percentage of last 1 month: ', Profit_Loss(30))\n",
    "print('Profit/Loss Percentage of last 3 months: ', Profit_Loss(91))\n",
    "print('Profit/Loss Percentage of last 6 months: ', Profit_Loss(182))\n",
    "print('Profit/Loss Percentage of last 1 year: ', Profit_Loss(365))"
   ]
  },
  {
   "cell_type": "markdown",
   "metadata": {},
   "source": [
    "## 1.6"
   ]
  },
  {
   "cell_type": "code",
   "execution_count": 92,
   "metadata": {},
   "outputs": [
    {
     "name": "stderr",
     "output_type": "stream",
     "text": [
      "C:\\Users\\Dell\\anaconda3\\lib\\site-packages\\ipykernel_launcher.py:2: SettingWithCopyWarning: \n",
      "A value is trying to be set on a copy of a slice from a DataFrame\n",
      "\n",
      "See the caveats in the documentation: https://pandas.pydata.org/pandas-docs/stable/user_guide/indexing.html#returning-a-view-versus-a-copy\n",
      "  \n"
     ]
    },
    {
     "data": {
      "text/html": [
       "<div>\n",
       "<style scoped>\n",
       "    .dataframe tbody tr th:only-of-type {\n",
       "        vertical-align: middle;\n",
       "    }\n",
       "\n",
       "    .dataframe tbody tr th {\n",
       "        vertical-align: top;\n",
       "    }\n",
       "\n",
       "    .dataframe thead th {\n",
       "        text-align: right;\n",
       "    }\n",
       "</style>\n",
       "<table border=\"1\" class=\"dataframe\">\n",
       "  <thead>\n",
       "    <tr style=\"text-align: right;\">\n",
       "      <th></th>\n",
       "      <th></th>\n",
       "      <th></th>\n",
       "      <th>Date</th>\n",
       "      <th>Close_Price</th>\n",
       "      <th>Open_Price</th>\n",
       "      <th>High_Price</th>\n",
       "      <th>Low_Price</th>\n",
       "      <th>Total_Traded_Quantity</th>\n",
       "      <th>Month</th>\n",
       "      <th>Year</th>\n",
       "      <th>VWAP</th>\n",
       "      <th>Day_Perc_Change</th>\n",
       "    </tr>\n",
       "    <tr>\n",
       "      <th>Year</th>\n",
       "      <th>Month</th>\n",
       "      <th></th>\n",
       "      <th></th>\n",
       "      <th></th>\n",
       "      <th></th>\n",
       "      <th></th>\n",
       "      <th></th>\n",
       "      <th></th>\n",
       "      <th></th>\n",
       "      <th></th>\n",
       "      <th></th>\n",
       "      <th></th>\n",
       "    </tr>\n",
       "  </thead>\n",
       "  <tbody>\n",
       "    <tr>\n",
       "      <th rowspan=\"5\" valign=\"top\">2019</th>\n",
       "      <th rowspan=\"5\" valign=\"top\">10</th>\n",
       "      <th>0</th>\n",
       "      <td>2019-10-24</td>\n",
       "      <td>1780.78</td>\n",
       "      <td>1,770.78</td>\n",
       "      <td>1,787.97</td>\n",
       "      <td>1,760.78</td>\n",
       "      <td>5200000.0</td>\n",
       "      <td>10</td>\n",
       "      <td>2019</td>\n",
       "      <td>1780.780000</td>\n",
       "      <td>0.000000</td>\n",
       "    </tr>\n",
       "    <tr>\n",
       "      <th>1</th>\n",
       "      <td>2019-10-23</td>\n",
       "      <td>1762.17</td>\n",
       "      <td>1,761.30</td>\n",
       "      <td>1,770.05</td>\n",
       "      <td>1,742.00</td>\n",
       "      <td>2190000.0</td>\n",
       "      <td>10</td>\n",
       "      <td>2019</td>\n",
       "      <td>1775.264993</td>\n",
       "      <td>-1.045048</td>\n",
       "    </tr>\n",
       "    <tr>\n",
       "      <th>2</th>\n",
       "      <td>2019-10-22</td>\n",
       "      <td>1765.73</td>\n",
       "      <td>1,788.15</td>\n",
       "      <td>1,789.78</td>\n",
       "      <td>1,762.00</td>\n",
       "      <td>2230000.0</td>\n",
       "      <td>10</td>\n",
       "      <td>2019</td>\n",
       "      <td>1773.054699</td>\n",
       "      <td>0.202024</td>\n",
       "    </tr>\n",
       "    <tr>\n",
       "      <th>3</th>\n",
       "      <td>2019-10-21</td>\n",
       "      <td>1785.66</td>\n",
       "      <td>1,769.66</td>\n",
       "      <td>1,785.88</td>\n",
       "      <td>1,765.00</td>\n",
       "      <td>2220000.0</td>\n",
       "      <td>10</td>\n",
       "      <td>2019</td>\n",
       "      <td>1775.418193</td>\n",
       "      <td>1.128712</td>\n",
       "    </tr>\n",
       "    <tr>\n",
       "      <th>4</th>\n",
       "      <td>2019-10-18</td>\n",
       "      <td>1757.51</td>\n",
       "      <td>1,787.80</td>\n",
       "      <td>1,793.98</td>\n",
       "      <td>1,749.20</td>\n",
       "      <td>3370000.0</td>\n",
       "      <td>10</td>\n",
       "      <td>2019</td>\n",
       "      <td>1771.450368</td>\n",
       "      <td>-1.576448</td>\n",
       "    </tr>\n",
       "  </tbody>\n",
       "</table>\n",
       "</div>"
      ],
      "text/plain": [
       "                   Date  Close_Price Open_Price High_Price Low_Price  \\\n",
       "Year Month                                                             \n",
       "2019 10    0 2019-10-24      1780.78   1,770.78   1,787.97  1,760.78   \n",
       "           1 2019-10-23      1762.17   1,761.30   1,770.05  1,742.00   \n",
       "           2 2019-10-22      1765.73   1,788.15   1,789.78  1,762.00   \n",
       "           3 2019-10-21      1785.66   1,769.66   1,785.88  1,765.00   \n",
       "           4 2019-10-18      1757.51   1,787.80   1,793.98  1,749.20   \n",
       "\n",
       "              Total_Traded_Quantity  Month  Year         VWAP  Day_Perc_Change  \n",
       "Year Month                                                                      \n",
       "2019 10    0              5200000.0     10  2019  1780.780000         0.000000  \n",
       "           1              2190000.0     10  2019  1775.264993        -1.045048  \n",
       "           2              2230000.0     10  2019  1773.054699         0.202024  \n",
       "           3              2220000.0     10  2019  1775.418193         1.128712  \n",
       "           4              3370000.0     10  2019  1771.450368        -1.576448  "
      ]
     },
     "execution_count": 92,
     "metadata": {},
     "output_type": "execute_result"
    }
   ],
   "source": [
    "df['Day_Perc_Change'] = df['Close_Price'].pct_change()*100\n",
    "df['Day_Perc_Change'][0] = 0\n",
    "df.head()"
   ]
  },
  {
   "cell_type": "markdown",
   "metadata": {},
   "source": [
    "## 1.7"
   ]
  },
  {
   "cell_type": "code",
   "execution_count": 93,
   "metadata": {},
   "outputs": [
    {
     "data": {
      "text/html": [
       "<div>\n",
       "<style scoped>\n",
       "    .dataframe tbody tr th:only-of-type {\n",
       "        vertical-align: middle;\n",
       "    }\n",
       "\n",
       "    .dataframe tbody tr th {\n",
       "        vertical-align: top;\n",
       "    }\n",
       "\n",
       "    .dataframe thead th {\n",
       "        text-align: right;\n",
       "    }\n",
       "</style>\n",
       "<table border=\"1\" class=\"dataframe\">\n",
       "  <thead>\n",
       "    <tr style=\"text-align: right;\">\n",
       "      <th></th>\n",
       "      <th></th>\n",
       "      <th></th>\n",
       "      <th>Date</th>\n",
       "      <th>Close_Price</th>\n",
       "      <th>Open_Price</th>\n",
       "      <th>High_Price</th>\n",
       "      <th>Low_Price</th>\n",
       "      <th>Total_Traded_Quantity</th>\n",
       "      <th>Month</th>\n",
       "      <th>Year</th>\n",
       "      <th>VWAP</th>\n",
       "      <th>Day_Perc_Change</th>\n",
       "      <th>Trend</th>\n",
       "    </tr>\n",
       "    <tr>\n",
       "      <th>Year</th>\n",
       "      <th>Month</th>\n",
       "      <th></th>\n",
       "      <th></th>\n",
       "      <th></th>\n",
       "      <th></th>\n",
       "      <th></th>\n",
       "      <th></th>\n",
       "      <th></th>\n",
       "      <th></th>\n",
       "      <th></th>\n",
       "      <th></th>\n",
       "      <th></th>\n",
       "      <th></th>\n",
       "    </tr>\n",
       "  </thead>\n",
       "  <tbody>\n",
       "    <tr>\n",
       "      <th rowspan=\"5\" valign=\"top\">2019</th>\n",
       "      <th rowspan=\"5\" valign=\"top\">10</th>\n",
       "      <th>0</th>\n",
       "      <td>2019-10-24</td>\n",
       "      <td>1780.78</td>\n",
       "      <td>1,770.78</td>\n",
       "      <td>1,787.97</td>\n",
       "      <td>1,760.78</td>\n",
       "      <td>5200000.0</td>\n",
       "      <td>10</td>\n",
       "      <td>2019</td>\n",
       "      <td>1780.780000</td>\n",
       "      <td>0.000000</td>\n",
       "      <td>Slight or No change</td>\n",
       "    </tr>\n",
       "    <tr>\n",
       "      <th>1</th>\n",
       "      <td>2019-10-23</td>\n",
       "      <td>1762.17</td>\n",
       "      <td>1,761.30</td>\n",
       "      <td>1,770.05</td>\n",
       "      <td>1,742.00</td>\n",
       "      <td>2190000.0</td>\n",
       "      <td>10</td>\n",
       "      <td>2019</td>\n",
       "      <td>1775.264993</td>\n",
       "      <td>-1.045048</td>\n",
       "      <td>Negative</td>\n",
       "    </tr>\n",
       "    <tr>\n",
       "      <th>2</th>\n",
       "      <td>2019-10-22</td>\n",
       "      <td>1765.73</td>\n",
       "      <td>1,788.15</td>\n",
       "      <td>1,789.78</td>\n",
       "      <td>1,762.00</td>\n",
       "      <td>2230000.0</td>\n",
       "      <td>10</td>\n",
       "      <td>2019</td>\n",
       "      <td>1773.054699</td>\n",
       "      <td>0.202024</td>\n",
       "      <td>Slight or No change</td>\n",
       "    </tr>\n",
       "    <tr>\n",
       "      <th>3</th>\n",
       "      <td>2019-10-21</td>\n",
       "      <td>1785.66</td>\n",
       "      <td>1,769.66</td>\n",
       "      <td>1,785.88</td>\n",
       "      <td>1,765.00</td>\n",
       "      <td>2220000.0</td>\n",
       "      <td>10</td>\n",
       "      <td>2019</td>\n",
       "      <td>1775.418193</td>\n",
       "      <td>1.128712</td>\n",
       "      <td>Positive</td>\n",
       "    </tr>\n",
       "    <tr>\n",
       "      <th>4</th>\n",
       "      <td>2019-10-18</td>\n",
       "      <td>1757.51</td>\n",
       "      <td>1,787.80</td>\n",
       "      <td>1,793.98</td>\n",
       "      <td>1,749.20</td>\n",
       "      <td>3370000.0</td>\n",
       "      <td>10</td>\n",
       "      <td>2019</td>\n",
       "      <td>1771.450368</td>\n",
       "      <td>-1.576448</td>\n",
       "      <td>Negative</td>\n",
       "    </tr>\n",
       "  </tbody>\n",
       "</table>\n",
       "</div>"
      ],
      "text/plain": [
       "                   Date  Close_Price Open_Price High_Price Low_Price  \\\n",
       "Year Month                                                             \n",
       "2019 10    0 2019-10-24      1780.78   1,770.78   1,787.97  1,760.78   \n",
       "           1 2019-10-23      1762.17   1,761.30   1,770.05  1,742.00   \n",
       "           2 2019-10-22      1765.73   1,788.15   1,789.78  1,762.00   \n",
       "           3 2019-10-21      1785.66   1,769.66   1,785.88  1,765.00   \n",
       "           4 2019-10-18      1757.51   1,787.80   1,793.98  1,749.20   \n",
       "\n",
       "              Total_Traded_Quantity  Month  Year         VWAP  \\\n",
       "Year Month                                                      \n",
       "2019 10    0              5200000.0     10  2019  1780.780000   \n",
       "           1              2190000.0     10  2019  1775.264993   \n",
       "           2              2230000.0     10  2019  1773.054699   \n",
       "           3              2220000.0     10  2019  1775.418193   \n",
       "           4              3370000.0     10  2019  1771.450368   \n",
       "\n",
       "              Day_Perc_Change                Trend  \n",
       "Year Month                                          \n",
       "2019 10    0         0.000000  Slight or No change  \n",
       "           1        -1.045048             Negative  \n",
       "           2         0.202024  Slight or No change  \n",
       "           3         1.128712             Positive  \n",
       "           4        -1.576448             Negative  "
      ]
     },
     "execution_count": 93,
     "metadata": {},
     "output_type": "execute_result"
    }
   ],
   "source": [
    "def label_race (df):\n",
    "    if df['Day_Perc_Change'] >= -0.5 and df['Day_Perc_Change'] <= 0.5:\n",
    "      return 'Slight or No change'\n",
    "    if df['Day_Perc_Change'] >= 0.5 and df['Day_Perc_Change'] <= 1.0:\n",
    "      return 'Slight positive'\n",
    "    if df['Day_Perc_Change'] >= -1.0 and df['Day_Perc_Change'] <= -0.5:\n",
    "      return 'Slight negative'\n",
    "    if df['Day_Perc_Change'] >= 1.0 and df['Day_Perc_Change'] <= 3.0:\n",
    "      return 'Positive'\n",
    "    if df['Day_Perc_Change'] >= -3.0 and df['Day_Perc_Change'] <= -1.0:\n",
    "      return 'Negative'\n",
    "    if df['Day_Perc_Change'] >= 3.0 and df['Day_Perc_Change'] <= 7.0:\n",
    "      return 'Among top gainers'\n",
    "    if df['Day_Perc_Change'] >= -7.0 and df['Day_Perc_Change'] <= -3.0:\n",
    "      return 'Among top losers'\n",
    "    if df['Day_Perc_Change'] > 7.0:\n",
    "      return 'Bull run'\n",
    "    if df['Day_Perc_Change'] < -7.0:\n",
    "      return 'Bear drop'\n",
    "    return 'Other'\n",
    "\n",
    "df['Trend'] = df.apply(lambda df: label_race(df), axis=1)\n",
    "df.head()"
   ]
  },
  {
   "cell_type": "markdown",
   "metadata": {},
   "source": [
    "## 1.8"
   ]
  },
  {
   "cell_type": "code",
   "execution_count": 94,
   "metadata": {},
   "outputs": [
    {
     "name": "stdout",
     "output_type": "stream",
     "text": [
      "Average of Total_Traded_Quantity: \n",
      " Trend\n",
      "Among top gainers      6.445161e+06\n",
      "Among top losers       7.190000e+06\n",
      "Bear drop              6.420000e+06\n",
      "Bull run               1.029000e+07\n",
      "Negative               4.891727e+06\n",
      "Positive               5.060746e+06\n",
      "Slight negative        4.368082e+06\n",
      "Slight or No change    4.188966e+06\n",
      "Slight positive        4.620192e+06\n",
      "Name: Total_Traded_Quantity, dtype: float64\n",
      "\n",
      "Median of Total_Traded_Quantity: \n",
      " Trend\n",
      "Among top gainers       6020000.0\n",
      "Among top losers        6515000.0\n",
      "Bear drop               6420000.0\n",
      "Bull run               10290000.0\n",
      "Negative                4385000.0\n",
      "Positive                4520000.0\n",
      "Slight negative         3810000.0\n",
      "Slight or No change     3680000.0\n",
      "Slight positive         4265000.0\n",
      "Name: Total_Traded_Quantity, dtype: float64\n"
     ]
    }
   ],
   "source": [
    "avg = df.groupby(df['Trend'])['Total_Traded_Quantity'].mean()\n",
    "med = df.groupby(df['Trend'])['Total_Traded_Quantity'].median()\n",
    "print('Average of Total_Traded_Quantity: \\n', avg)\n",
    "print('\\nMedian of Total_Traded_Quantity: \\n',med)"
   ]
  },
  {
   "cell_type": "markdown",
   "metadata": {},
   "source": [
    "## 1.9"
   ]
  },
  {
   "cell_type": "code",
   "execution_count": 95,
   "metadata": {},
   "outputs": [],
   "source": [
    "df.to_csv('week2.csv')"
   ]
  },
  {
   "cell_type": "code",
   "execution_count": null,
   "metadata": {},
   "outputs": [],
   "source": []
  }
 ],
 "metadata": {
  "kernelspec": {
   "display_name": "Python 3",
   "language": "python",
   "name": "python3"
  },
  "language_info": {
   "codemirror_mode": {
    "name": "ipython",
    "version": 3
   },
   "file_extension": ".py",
   "mimetype": "text/x-python",
   "name": "python",
   "nbconvert_exporter": "python",
   "pygments_lexer": "ipython3",
   "version": "3.7.6"
  }
 },
 "nbformat": 4,
 "nbformat_minor": 4
}
