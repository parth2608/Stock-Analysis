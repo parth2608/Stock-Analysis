{
 "cells": [
  {
   "cell_type": "code",
   "execution_count": 1,
   "metadata": {},
   "outputs": [],
   "source": [
    "import pandas as pd\n",
    "import numpy as np\n",
    "import math\n",
    "import matplotlib.pyplot as plt"
   ]
  },
  {
   "cell_type": "markdown",
   "metadata": {},
   "source": [
    "## 5.1"
   ]
  },
  {
   "cell_type": "code",
   "execution_count": 2,
   "metadata": {},
   "outputs": [
    {
     "data": {
      "text/html": [
       "<div>\n",
       "<style scoped>\n",
       "    .dataframe tbody tr th:only-of-type {\n",
       "        vertical-align: middle;\n",
       "    }\n",
       "\n",
       "    .dataframe tbody tr th {\n",
       "        vertical-align: top;\n",
       "    }\n",
       "\n",
       "    .dataframe thead th {\n",
       "        text-align: right;\n",
       "    }\n",
       "</style>\n",
       "<table border=\"1\" class=\"dataframe\">\n",
       "  <thead>\n",
       "    <tr style=\"text-align: right;\">\n",
       "      <th></th>\n",
       "      <th>Symbol</th>\n",
       "      <th>Series</th>\n",
       "      <th>Date</th>\n",
       "      <th>Prev Close</th>\n",
       "      <th>Open Price</th>\n",
       "      <th>High Price</th>\n",
       "      <th>Low Price</th>\n",
       "      <th>Last Price</th>\n",
       "      <th>Close Price</th>\n",
       "      <th>Average Price</th>\n",
       "      <th>Total Traded Quantity</th>\n",
       "      <th>Turnover</th>\n",
       "      <th>No. of Trades</th>\n",
       "      <th>Deliverable Qty</th>\n",
       "      <th>% Dly Qt to Traded Qty</th>\n",
       "    </tr>\n",
       "  </thead>\n",
       "  <tbody>\n",
       "    <tr>\n",
       "      <th>0</th>\n",
       "      <td>TCS</td>\n",
       "      <td>EQ</td>\n",
       "      <td>2017-05-15</td>\n",
       "      <td>2360.65</td>\n",
       "      <td>2375.1</td>\n",
       "      <td>2377.95</td>\n",
       "      <td>2341.60</td>\n",
       "      <td>2368.00</td>\n",
       "      <td>2365.10</td>\n",
       "      <td>2352.60</td>\n",
       "      <td>908802</td>\n",
       "      <td>2.138043e+09</td>\n",
       "      <td>30047</td>\n",
       "      <td>712450</td>\n",
       "      <td>78.39</td>\n",
       "    </tr>\n",
       "    <tr>\n",
       "      <th>1</th>\n",
       "      <td>TCS</td>\n",
       "      <td>EQ</td>\n",
       "      <td>2017-05-16</td>\n",
       "      <td>2365.10</td>\n",
       "      <td>2380.0</td>\n",
       "      <td>2435.00</td>\n",
       "      <td>2373.45</td>\n",
       "      <td>2425.10</td>\n",
       "      <td>2429.15</td>\n",
       "      <td>2410.26</td>\n",
       "      <td>1800513</td>\n",
       "      <td>4.339703e+09</td>\n",
       "      <td>58476</td>\n",
       "      <td>1167534</td>\n",
       "      <td>64.84</td>\n",
       "    </tr>\n",
       "    <tr>\n",
       "      <th>2</th>\n",
       "      <td>TCS</td>\n",
       "      <td>EQ</td>\n",
       "      <td>2017-05-17</td>\n",
       "      <td>2429.15</td>\n",
       "      <td>2433.5</td>\n",
       "      <td>2460.75</td>\n",
       "      <td>2423.00</td>\n",
       "      <td>2450.00</td>\n",
       "      <td>2455.35</td>\n",
       "      <td>2443.31</td>\n",
       "      <td>1438099</td>\n",
       "      <td>3.513729e+09</td>\n",
       "      <td>86412</td>\n",
       "      <td>1031752</td>\n",
       "      <td>71.74</td>\n",
       "    </tr>\n",
       "    <tr>\n",
       "      <th>3</th>\n",
       "      <td>TCS</td>\n",
       "      <td>EQ</td>\n",
       "      <td>2017-05-18</td>\n",
       "      <td>2455.35</td>\n",
       "      <td>2450.0</td>\n",
       "      <td>2572.00</td>\n",
       "      <td>2442.25</td>\n",
       "      <td>2525.00</td>\n",
       "      <td>2536.20</td>\n",
       "      <td>2525.78</td>\n",
       "      <td>2569297</td>\n",
       "      <td>6.489478e+09</td>\n",
       "      <td>111566</td>\n",
       "      <td>1135613</td>\n",
       "      <td>44.20</td>\n",
       "    </tr>\n",
       "    <tr>\n",
       "      <th>4</th>\n",
       "      <td>TCS</td>\n",
       "      <td>EQ</td>\n",
       "      <td>2017-05-19</td>\n",
       "      <td>2536.20</td>\n",
       "      <td>2536.2</td>\n",
       "      <td>2540.55</td>\n",
       "      <td>2486.00</td>\n",
       "      <td>2503.85</td>\n",
       "      <td>2507.15</td>\n",
       "      <td>2506.58</td>\n",
       "      <td>893022</td>\n",
       "      <td>2.238430e+09</td>\n",
       "      <td>63112</td>\n",
       "      <td>517461</td>\n",
       "      <td>57.94</td>\n",
       "    </tr>\n",
       "  </tbody>\n",
       "</table>\n",
       "</div>"
      ],
      "text/plain": [
       "  Symbol Series       Date  Prev Close  Open Price  High Price  Low Price  \\\n",
       "0    TCS     EQ 2017-05-15     2360.65      2375.1     2377.95    2341.60   \n",
       "1    TCS     EQ 2017-05-16     2365.10      2380.0     2435.00    2373.45   \n",
       "2    TCS     EQ 2017-05-17     2429.15      2433.5     2460.75    2423.00   \n",
       "3    TCS     EQ 2017-05-18     2455.35      2450.0     2572.00    2442.25   \n",
       "4    TCS     EQ 2017-05-19     2536.20      2536.2     2540.55    2486.00   \n",
       "\n",
       "   Last Price  Close Price  Average Price  Total Traded Quantity  \\\n",
       "0     2368.00      2365.10        2352.60                 908802   \n",
       "1     2425.10      2429.15        2410.26                1800513   \n",
       "2     2450.00      2455.35        2443.31                1438099   \n",
       "3     2525.00      2536.20        2525.78                2569297   \n",
       "4     2503.85      2507.15        2506.58                 893022   \n",
       "\n",
       "       Turnover  No. of Trades  Deliverable Qty  % Dly Qt to Traded Qty  \n",
       "0  2.138043e+09          30047           712450                   78.39  \n",
       "1  4.339703e+09          58476          1167534                   64.84  \n",
       "2  3.513729e+09          86412          1031752                   71.74  \n",
       "3  6.489478e+09         111566          1135613                   44.20  \n",
       "4  2.238430e+09          63112           517461                   57.94  "
      ]
     },
     "execution_count": 2,
     "metadata": {},
     "output_type": "execute_result"
    }
   ],
   "source": [
    "tcs = pd.read_csv('TCS.csv')\n",
    "tcs['Date'] = pd.to_datetime(tcs['Date'])\n",
    "tcs.head()"
   ]
  },
  {
   "cell_type": "code",
   "execution_count": 3,
   "metadata": {},
   "outputs": [
    {
     "name": "stdout",
     "output_type": "stream",
     "text": [
      "Mean Daily Return:  0.00029473688361705396\n",
      "Daily Standard Deviation:  0.027052226491492172\n",
      "Annual Mean:  0.0742736946714976\n",
      "Annual Standard Deviation:  0.42944078224249\n"
     ]
    }
   ],
   "source": [
    "print('Mean Daily Return: ', tcs['Close Price'].pct_change().fillna(0).mean())\n",
    "print('Daily Standard Deviation: ', tcs['Close Price'].pct_change().fillna(0).std())\n",
    "print('Annual Mean: ', tcs['Close Price'].pct_change().fillna(0).mean()*252)\n",
    "print('Annual Standard Deviation: ', tcs['Close Price'].pct_change().fillna(0).std()*math.sqrt(252))"
   ]
  },
  {
   "cell_type": "markdown",
   "metadata": {},
   "source": [
    "## 5.2"
   ]
  },
  {
   "cell_type": "code",
   "execution_count": 4,
   "metadata": {},
   "outputs": [
    {
     "data": {
      "text/html": [
       "<div>\n",
       "<style scoped>\n",
       "    .dataframe tbody tr th:only-of-type {\n",
       "        vertical-align: middle;\n",
       "    }\n",
       "\n",
       "    .dataframe tbody tr th {\n",
       "        vertical-align: top;\n",
       "    }\n",
       "\n",
       "    .dataframe thead th {\n",
       "        text-align: right;\n",
       "    }\n",
       "</style>\n",
       "<table border=\"1\" class=\"dataframe\">\n",
       "  <thead>\n",
       "    <tr style=\"text-align: right;\">\n",
       "      <th></th>\n",
       "      <th>RCOM</th>\n",
       "      <th>PNB</th>\n",
       "      <th>ITC</th>\n",
       "      <th>PVR</th>\n",
       "      <th>TCS</th>\n",
       "    </tr>\n",
       "  </thead>\n",
       "  <tbody>\n",
       "    <tr>\n",
       "      <th>0</th>\n",
       "      <td>32.00</td>\n",
       "      <td>166.80</td>\n",
       "      <td>277.95</td>\n",
       "      <td>1524.95</td>\n",
       "      <td>2365.10</td>\n",
       "    </tr>\n",
       "    <tr>\n",
       "      <th>1</th>\n",
       "      <td>32.10</td>\n",
       "      <td>174.15</td>\n",
       "      <td>283.45</td>\n",
       "      <td>1539.00</td>\n",
       "      <td>2429.15</td>\n",
       "    </tr>\n",
       "    <tr>\n",
       "      <th>2</th>\n",
       "      <td>31.95</td>\n",
       "      <td>165.05</td>\n",
       "      <td>281.65</td>\n",
       "      <td>1530.30</td>\n",
       "      <td>2455.35</td>\n",
       "    </tr>\n",
       "    <tr>\n",
       "      <th>3</th>\n",
       "      <td>31.05</td>\n",
       "      <td>158.50</td>\n",
       "      <td>277.90</td>\n",
       "      <td>1515.05</td>\n",
       "      <td>2536.20</td>\n",
       "    </tr>\n",
       "    <tr>\n",
       "      <th>4</th>\n",
       "      <td>30.55</td>\n",
       "      <td>155.20</td>\n",
       "      <td>286.20</td>\n",
       "      <td>1513.55</td>\n",
       "      <td>2507.15</td>\n",
       "    </tr>\n",
       "  </tbody>\n",
       "</table>\n",
       "</div>"
      ],
      "text/plain": [
       "    RCOM     PNB     ITC      PVR      TCS\n",
       "0  32.00  166.80  277.95  1524.95  2365.10\n",
       "1  32.10  174.15  283.45  1539.00  2429.15\n",
       "2  31.95  165.05  281.65  1530.30  2455.35\n",
       "3  31.05  158.50  277.90  1515.05  2536.20\n",
       "4  30.55  155.20  286.20  1513.55  2507.15"
      ]
     },
     "execution_count": 4,
     "metadata": {},
     "output_type": "execute_result"
    }
   ],
   "source": [
    "rcom = pd.read_csv('RCOM.csv')\n",
    "pvr = pd.read_csv('PVR.csv')\n",
    "pnb = pd.read_csv('PNB.csv')\n",
    "itc = pd.read_csv('ITC.csv')\n",
    "tcs = pd.read_csv('TCS.csv')\n",
    "data = pd.concat([rcom['Close Price'], pnb['Close Price'], itc['Close Price'], pvr['Close Price'], tcs['Close Price']], join='inner', axis=1, keys=['RCOM', 'PNB', 'ITC', 'PVR', 'TCS'])\n",
    "data.head()"
   ]
  },
  {
   "cell_type": "code",
   "execution_count": 5,
   "metadata": {},
   "outputs": [
    {
     "name": "stdout",
     "output_type": "stream",
     "text": [
      "Portfolio Annual Return:  -0.17\n",
      "Portfolio Volatility:  0.27\n"
     ]
    }
   ],
   "source": [
    "daily_mean = data.pct_change().mean()\n",
    "cov_matrix = data.pct_change().cov()\n",
    "weights = np.asarray([0.2,0.2,0.2,0.2,0.2])\n",
    "portfolio_return = round(np.sum(daily_mean * weights) * 252,2)\n",
    "portfolio_std = round(np.sqrt(np.dot(weights.T,np.dot(cov_matrix, weights))) * np.sqrt(252),2)\n",
    "print('Portfolio Annual Return: ', portfolio_return)\n",
    "print('Portfolio Volatility: ', portfolio_std)"
   ]
  },
  {
   "cell_type": "markdown",
   "metadata": {},
   "source": [
    "## 5.3"
   ]
  },
  {
   "cell_type": "code",
   "execution_count": 6,
   "metadata": {},
   "outputs": [
    {
     "data": {
      "image/png": "[encoded data removed]",
      "text/plain": [
       "<Figure size 432x288 with 2 Axes>"
      ]
     },
     "metadata": {
      "needs_background": "light"
     },
     "output_type": "display_data"
    }
   ],
   "source": [
    "daily_mean = data.pct_change().mean()\n",
    "cov_matrix = data.pct_change().cov()\n",
    "n = 10000\n",
    "result = np.zeros((3, n))\n",
    "for i in range(n):\n",
    "    weights = np.random.random(5)\n",
    "    weights /= np.sum(weights)\n",
    "    portfolio_return = np.sum(daily_mean * weights) * 252\n",
    "    portfolio_std = np.sqrt(np.dot(weights.T,np.dot(cov_matrix, weights))) * np.sqrt(252)\n",
    "    result[0,i] = portfolio_return\n",
    "    result[1,i] = portfolio_std\n",
    "    result[2,i] = result[0,i] / result[1,i]\n",
    "result_frame = pd.DataFrame(result.T,columns=['Return','STD','Sharpe'])\n",
    "plt.scatter(result_frame.STD,result_frame.Return,c=result_frame.Sharpe,cmap='RdYlBu');\n",
    "plt.xlabel('Volatility');\n",
    "plt.ylabel('Returns');\n",
    "plt.colorbar();"
   ]
  },
  {
   "cell_type": "code",
   "execution_count": 7,
   "metadata": {},
   "outputs": [
    {
     "data": {
      "image/png": "[encoded data removed]",
      "text/plain": [
       "<Figure size 432x288 with 2 Axes>"
      ]
     },
     "metadata": {
      "needs_background": "light"
     },
     "output_type": "display_data"
    }
   ],
   "source": [
    "stocks = ['RCOM','PNB','ITC','PVR','TCS']\n",
    "daily_mean = data.pct_change().mean()\n",
    "cov_matrix = data.pct_change().cov()\n",
    "n = 10000\n",
    "result = np.zeros((4+len(stocks)-1,n))\n",
    "for i in range(n):\n",
    "    weights = np.random.random(5)\n",
    "    weights /= np.sum(weights)\n",
    "    portfolio_return = np.sum(daily_mean * weights) * 252\n",
    "    portfolio_std = np.sqrt(np.dot(weights.T,np.dot(cov_matrix, weights))) * np.sqrt(252)\n",
    "    result[0,i] = portfolio_return\n",
    "    result[1,i] = portfolio_std\n",
    "    result[2,i] = result[0,i] / result[1,i]\n",
    "    for j in range(len(weights)):\n",
    "        result[j+3,i] = weights[j]\n",
    "result_frame = pd.DataFrame(result.T,columns=['Return','STD','Sharpe',stocks[0],stocks[1],stocks[2],stocks[3],stocks[4]])\n",
    "max_sharpe_port = result_frame.iloc[result_frame['Sharpe'].idxmax()]\n",
    "min_vol_port = result_frame.iloc[result_frame['STD'].idxmin()]\n",
    "plt.scatter(result_frame.STD,result_frame.Return,c=result_frame.Sharpe,cmap='RdYlBu');\n",
    "plt.xlabel('Volatility');\n",
    "plt.ylabel('Returns');\n",
    "plt.scatter(max_sharpe_port[1],max_sharpe_port[0],marker=(5,1,0),color='r',s=250);\n",
    "plt.scatter(min_vol_port[1],min_vol_port[0],marker=(5,1,0),color='g',s=250);\n",
    "plt.colorbar();"
   ]
  },
  {
   "cell_type": "code",
   "execution_count": null,
   "metadata": {},
   "outputs": [],
   "source": []
  }
 ],
 "metadata": {
  "kernelspec": {
   "display_name": "Python 3.7.7 64-bit ('myenv': conda)",
   "language": "python",
   "name": "python37764bitmyenvconda80e0893933374329969451da851b3ca8"
  },
  "language_info": {
   "codemirror_mode": {
    "name": "ipython",
    "version": 3
   },
   "file_extension": ".py",
   "mimetype": "text/x-python",
   "name": "python",
   "nbconvert_exporter": "python",
   "pygments_lexer": "ipython3",
   "version": "3.7.7"
  }
 },
 "nbformat": 4,
 "nbformat_minor": 4
}
